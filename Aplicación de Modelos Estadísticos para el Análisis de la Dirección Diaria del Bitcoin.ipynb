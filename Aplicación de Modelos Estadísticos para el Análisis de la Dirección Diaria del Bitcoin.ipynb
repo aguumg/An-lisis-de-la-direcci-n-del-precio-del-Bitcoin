{
 "cells": [
  {
   "cell_type": "markdown",
   "metadata": {},
   "source": [
    "# <font color= darkblue> Modelos Estadísticos para el Análisis de la Dirección Diaria del Bitcoin</font>\n",
    "###### <font color= green> \"Finance is not a plug-and-play subject as it relates to machine learning. Modelling financial series is harder than driving cars or recognizing faces.\" (Marcos Lopez de Prado)</font>\n",
    "\\author{Agustin Muñoz Gonzalez} \\date{Julio 2021}\n",
    "\n",
    "\\maketitle\n",
    "\\makeatletter\n",
    "\\renewcommand{\\@seccntformat}[1]{}\n",
    "\\makeatother"
   ]
  },
  {
   "cell_type": "markdown",
   "metadata": {},
   "source": [
    "##### <font color= darkblue> Abstract\n",
    "    \n",
    "A pesar de que las aplicaciones de las redes neuronales profundas (deep learning) les han permitido a los inversores estimar la dirección del movimiento de activos financieros, aún no existen demasiados resultados sobre estas aplicaciones para las llamadas ''divisas alternativas'' como el Bitcoin (BTC), que ha tenido un crecimiento fenomenal durante el 2020. Es por eso que consideramos pertinente estudiar y explorar aplicaciones de inversión de diversos modelos estadísticos típicos, y no tan típicos, de la ciencia de datos para el problema de estimar la dirección diaria futura del BTC. En particular, el anteúltimo modelo mostrado es una red neuronal LSTM cuya topología es distinta de las redes clásicas y las vuelve especialmente útiles para trabajar con datos que tienen una dependencia temporal de corto y largo plazo, como son las series temporales financieras. Hemos utilizado en este proyecto el lenguaje Python y datos históricos reales del BTC. La originalidad del trabajo se debe no sólo a la aplicación de diversos modelos estadísticos sino a la incorporación de métricas llamadas ''on-chain'' ligadas pura y exclusivamente a la block chain, y que están tomando cada vez mas relevancia."
   ]
  },
  {
   "cell_type": "markdown",
   "metadata": {},
   "source": [
    "##### <font color= darkblue> Key words:</font> \n",
    "\n",
    "<font color= dimgray> Data-science – Statistical learning – Deep Learning – Long Short-Term Memory Neural Networks – Bitcoin – Asset Movement Prediction</font> "
   ]
  },
  {
   "cell_type": "markdown",
   "metadata": {},
   "source": [
    "##### <font color= darkblue> Introducción \n",
    "\n",
    "En este proyecto analizaremos la aplicación y performance de distintos modelos al problema de la clasifiación del movimiento diario del Bitcoin. Es decir, la variable respuesta será una variable categórica binaria: $+1$ si el precio de cierre del próximo día es mayor al último cierre y $0$ en caso contrario.\n",
    "\n",
    "Si bien el BTC (Bitcoin) ha sido desarrollado hace varias años ya, recientemente ha captado la atención tanto de los inversores institucionalistas como de los retailers. Debido a que todavía es una tecnología novedosa incluso entre los expertos no está del todo claro qué factores afectan su movimiento. Es por eso que las variables explicativas (features) que consideraremos intentarán cubrir aspectos ligados a factores que pueden ser relevantes, los mismos son:\n",
    "\n",
    "\\begin{itemize}\n",
    "\\item Precio del BTC;\n",
    "\\item El proceso de ''price discovery'' del BTC (nuevos highs y lows);\n",
    "\\item ''Market sentiment'': indicadores típicos que hacen las veces de un termómetro y narrativa del mercado;\n",
    "\\item Indicadores técnicos;\n",
    "\\item Métricas ''On-chain'': Métricas típicas de la Blockchain.\n",
    "\\end{itemize}\n",
    "\n",
    "Hemos separado el trabajo en dos partes. \n",
    "    \n",
    "En la primera parte nos dedicaremos a armar el set de datos del BTC con datos obtenidos del exchange Bitstamp mediante el sitio quandl.com. Además, obtendremos los datos asociados a las variables explicativas, mencionadas anteriormente, de los sitios Investing.com y docs.coinmetrics.io. Luego, haremos una selección de las variables más relevantes según el paradigma explicativo. Finalmente, terminaremos preparando los sets de entrenamiento y testeo que utilizaremos en la segunda parte. \n",
    "    \n",
    "En la segunda parte construiremos varios modelos estadísticos en orden creciente en complejidad. Además, analizaremos y compararemos el desempeño de cada uno. Más aún, mostraremos algunos problemas típicos de la ciencia de datos como son el problema de sobreajuste de un modelo o la poca cantidad de datos disponibles, y algunas ideas para superarlos. Finalmente, graficaremos las estrategias resultantes de seguir las predicciones de cada modelo.\n",
    "\n",
    "Por último, en la conclusión haremos la comparativa final entre los modelos según distintas métricas como son velocidad de convergencia del algoritmo, puntaje de predicción y grado de sobreajuste, para encontrar los m resumiremos las ideas claves del trabajo como también los inconvenientes encontrados, y los proyectos y mejoras futuras.\n",
    "\n",
    "La bibliografía se encuentra al final, con papers, links webs, libros, etc, relacionados con las temáticas tratadas y que hemos utilizado a lo largo del trabajo."
   ]
  },
  {
   "cell_type": "markdown",
   "metadata": {},
   "source": [
    "\\clearpage"
   ]
  },
  {
   "cell_type": "markdown",
   "metadata": {},
   "source": [
    "# <font color= darkblue> Parte I: Análisis Exploratorio de Datos \\& Ingeniería de los Features</font>\n",
    "\n",
    "\n",
    "## <font color= darkblue> Obtención de datos, preprocesado de los mismos y definición de los features</font>\n",
    "\n",
    "Una serie temporal es una serie de datos indexados temporalmente. En general, una serie temporal es una secuencia de observaciones obtenidas en intervalos de tiempo regulados y fijos, y donde la frecuencia de las observaciones puede ser en segundos, minutos, horas, diaria, mensual, trimestral y anual. Los datos del precio de cierre diario del BTC es un ejemplo de serie temporal diaria.\n",
    "\n",
    "El primer paso hacia cualquier análisis de datos es obtener los datos ''crudos''. Esto involucra obtener los datos desde una fuente y limpiar/completar los datos faltantes."
   ]
  },
  {
   "cell_type": "markdown",
   "metadata": {},
   "source": [
    "### <font color= darkblue>Importando librerías necesarias</font>\n",
    "\n",
    "Inicialmente importamos varias librerías y paquetes de Python que usaremos a lo largo del trabajo, los mismos cubrirán aspectos sobre visualización, exploración y análisis de datos, como también visualización de resultados. \n",
    "\n",
    "Además, importaremos varios modulos de subpaquetes de Keras necesarios para la creación de los modelos y la medición de la performance de los mismos. Keras es una API de Python y es una de las librerías mas poderosas y amigables para el usuario que está basada, a su vez, en la popular librería TensorFlow para la creación de modelos de machine learning y deep learning."
   ]
  },
  {
   "cell_type": "code",
   "execution_count": 1,
   "metadata": {},
   "outputs": [],
   "source": [
    "import numpy as np\n",
    "from scipy import stats\n",
    "import pandas as pd\n",
    "import time\n",
    "#import math\n",
    "\n",
    "# Sklearn\n",
    "import sklearn\n",
    "# Preprocessor from sklearn\n",
    "from sklearn.preprocessing import MinMaxScaler\n",
    "from sklearn.model_selection import train_test_split\n",
    "\n",
    "# Keras\n",
    "import keras\n",
    "# ANNs from keras\n",
    "from keras.models import Sequential\n",
    "from keras.utils.vis_utils import plot_model\n",
    "from keras.layers import Dropout, Dense, LSTM\n",
    "\n",
    "# Import cufflinks for visualization\n",
    "import matplotlib.pyplot as plt\n",
    "plt.rcParams['figure.figsize'] =(20,10)\n",
    "plt.style.use('fivethirtyeight')\n",
    "\n",
    "# Ignore warnings\n",
    "import warnings\n",
    "warnings.filterwarnings('ignore')\n",
    "\n",
    "# Feature selection\n",
    "import seaborn as sns\n",
    "from sklearn.feature_selection import SelectKBest\n",
    "from sklearn.feature_selection import f_classif\n",
    "# Feature importance\n",
    "from sklearn.ensemble import ExtraTreesClassifier\n",
    "import matplotlib.pyplot as plt\n",
    "\n",
    "# Models\n",
    "from sklearn.naive_bayes import MultinomialNB\n",
    "from sklearn.linear_model import LogisticRegression\n",
    "from sklearn.neighbors import KNeighborsClassifier\n",
    "from sklearn.svm import LinearSVC\n",
    "from sklearn.tree import DecisionTreeClassifier\n",
    "from sklearn.ensemble import BaggingClassifier\n",
    "from sklearn.tree import DecisionTreeClassifier\n",
    "from sklearn.ensemble import AdaBoostClassifier\n",
    "from sklearn.tree import DecisionTreeClassifier\n",
    "from sklearn.ensemble import RandomForestClassifier\n",
    "from sklearn.ensemble import VotingClassifier\n",
    "from skpp import ProjectionPursuitRegressor\n",
    "from skpp import ProjectionPursuitClassifier\n",
    "# # ANNs\n",
    "# from tensorflow.keras import Input\n",
    "# from tensorflow.keras.layers import Dense, LSTM\n",
    "# from tensorflow.keras.models import load_model, Model\n",
    "\n",
    "# Model Metrics\n",
    "from sklearn.metrics import accuracy_score\n",
    "# ROC Curve\n",
    "from sklearn.metrics import roc_curve\n",
    "from sklearn.metrics import roc_auc_score\n",
    "\n",
    "# Resample\n",
    "# Block Bootstrap\n",
    "from arch.bootstrap import StationaryBootstrap\n",
    "# Time Series cross-validation\n",
    "from sklearn.model_selection import TimeSeriesSplit\n",
    "\n",
    "# Class encoder\n",
    "from sklearn.preprocessing import LabelEncoder "
   ]
  },
  {
   "cell_type": "markdown",
   "metadata": {},
   "source": [
    "Seteamos las semillas correspondientes para que el trabajo sea reproducible."
   ]
  },
  {
   "cell_type": "code",
   "execution_count": 2,
   "metadata": {},
   "outputs": [],
   "source": [
    "# We set a seed value in order to be able of reproduce the results.\n",
    "seed_value= 123\n",
    "# 1. Set `PYTHONHASHSEED` environment variable at a fixed value\n",
    "import os\n",
    "os.environ['PYTHONHASHSEED']=str(seed_value)\n",
    "# 2. Set `python` built-in pseudo-random generator at a fixed value\n",
    "import random\n",
    "random.seed(seed_value)\n",
    "# 3. Set `numpy` pseudo-random generator at a fixed value\n",
    "import numpy as np\n",
    "np.random.seed(seed_value)\n",
    "# 4. Set `tensorflow` pseudo-random generator at a fixed value\n",
    "# import tensorflow as tf\n",
    "# tf.set_random_seed(seed_value)\n",
    "\n",
    "from numpy.random import seed\n",
    "seed(123)"
   ]
  },
  {
   "cell_type": "markdown",
   "metadata": {},
   "source": [
    "### <font color= darkblue> Recolección de datos</font>\n",
    "El trabajo se basa en datos de los sitios Bitsamp (via quand.com), Investing.com y docs.coinmetrics.io. Si bien en un principio consideraremos datos históricos de BTC desde el COMPLETAR, cuando limpiemos por datos faltantes y armemos el dataframe con todas las features, terminaremos usando datos históricos con frecuancia diaria desde el 23 de Febrero del 2017 hasta el 15 de Marzo de 2021, es decir, alrededor de 1000 datos."
   ]
  },
  {
   "cell_type": "code",
   "execution_count": 3,
   "metadata": {},
   "outputs": [
    {
     "data": {
      "text/html": [
       "<div>\n",
       "<style scoped>\n",
       "    .dataframe tbody tr th:only-of-type {\n",
       "        vertical-align: middle;\n",
       "    }\n",
       "\n",
       "    .dataframe tbody tr th {\n",
       "        vertical-align: top;\n",
       "    }\n",
       "\n",
       "    .dataframe thead th {\n",
       "        text-align: right;\n",
       "    }\n",
       "</style>\n",
       "<table border=\"1\" class=\"dataframe\">\n",
       "  <thead>\n",
       "    <tr style=\"text-align: right;\">\n",
       "      <th></th>\n",
       "      <th>High</th>\n",
       "      <th>Low</th>\n",
       "      <th>Last</th>\n",
       "      <th>Bid</th>\n",
       "      <th>Ask</th>\n",
       "      <th>Volume</th>\n",
       "      <th>VWAP</th>\n",
       "    </tr>\n",
       "    <tr>\n",
       "      <th>Date</th>\n",
       "      <th></th>\n",
       "      <th></th>\n",
       "      <th></th>\n",
       "      <th></th>\n",
       "      <th></th>\n",
       "      <th></th>\n",
       "      <th></th>\n",
       "    </tr>\n",
       "  </thead>\n",
       "  <tbody>\n",
       "    <tr>\n",
       "      <th>2014-04-15</th>\n",
       "      <td>515.00</td>\n",
       "      <td>453.16</td>\n",
       "      <td>499.01</td>\n",
       "      <td>500.01</td>\n",
       "      <td>505.04</td>\n",
       "      <td>28535.844106</td>\n",
       "      <td>491.41</td>\n",
       "    </tr>\n",
       "    <tr>\n",
       "      <th>2014-04-16</th>\n",
       "      <td>548.00</td>\n",
       "      <td>494.02</td>\n",
       "      <td>534.00</td>\n",
       "      <td>535.01</td>\n",
       "      <td>536.00</td>\n",
       "      <td>31159.941300</td>\n",
       "      <td>520.21</td>\n",
       "    </tr>\n",
       "    <tr>\n",
       "      <th>2014-04-17</th>\n",
       "      <td>537.24</td>\n",
       "      <td>481.63</td>\n",
       "      <td>506.52</td>\n",
       "      <td>504.70</td>\n",
       "      <td>505.38</td>\n",
       "      <td>21126.375080</td>\n",
       "      <td>504.83</td>\n",
       "    </tr>\n",
       "    <tr>\n",
       "      <th>2014-04-18</th>\n",
       "      <td>508.43</td>\n",
       "      <td>470.00</td>\n",
       "      <td>487.00</td>\n",
       "      <td>484.14</td>\n",
       "      <td>487.00</td>\n",
       "      <td>11879.484756</td>\n",
       "      <td>485.72</td>\n",
       "    </tr>\n",
       "    <tr>\n",
       "      <th>2014-04-19</th>\n",
       "      <td>507.43</td>\n",
       "      <td>472.81</td>\n",
       "      <td>504.74</td>\n",
       "      <td>504.74</td>\n",
       "      <td>505.00</td>\n",
       "      <td>10262.195861</td>\n",
       "      <td>492.22</td>\n",
       "    </tr>\n",
       "  </tbody>\n",
       "</table>\n",
       "</div>"
      ],
      "text/plain": [
       "              High     Low    Last     Bid     Ask        Volume    VWAP\n",
       "Date                                                                    \n",
       "2014-04-15  515.00  453.16  499.01  500.01  505.04  28535.844106  491.41\n",
       "2014-04-16  548.00  494.02  534.00  535.01  536.00  31159.941300  520.21\n",
       "2014-04-17  537.24  481.63  506.52  504.70  505.38  21126.375080  504.83\n",
       "2014-04-18  508.43  470.00  487.00  484.14  487.00  11879.484756  485.72\n",
       "2014-04-19  507.43  472.81  504.74  504.74  505.00  10262.195861  492.22"
      ]
     },
     "execution_count": 3,
     "metadata": {},
     "output_type": "execute_result"
    }
   ],
   "source": [
    "Bitcoin=pd.read_csv('data/BITSTAMP-USD.csv', index_col=0, parse_dates=True)[::-1].dropna()\n",
    "Bitcoin.head()"
   ]
  },
  {
   "cell_type": "markdown",
   "metadata": {},
   "source": [
    "#### <font color= darkblue>Visualización de la fluctuación del BTC</font>"
   ]
  },
  {
   "cell_type": "code",
   "execution_count": 4,
   "metadata": {},
   "outputs": [
    {
     "data": {
      "image/png": "[encoded data removed]",
      "text/plain": [
       "<Figure size 1440x720 with 1 Axes>"
      ]
     },
     "metadata": {},
     "output_type": "display_data"
    }
   ],
   "source": [
    "Bitcoin['Last'].plot(figsize=(20,10),color='black');"
   ]
  },
  {
   "cell_type": "markdown",
   "metadata": {},
   "source": [
    "De nuevo, las variables explicativas que manejaremos cubrirán los siguentes aspectos del BTC (y del mercado en general):\n",
    "\n",
    "\\begin{itemize}\n",
    "\\item Factores ligados directamente al precio ''spot'' del BTC y al proceso de price discovery tales como: precios diarios de futuros del BTC y precios diarios de Ethereum;\n",
    "\\item Indicadores macro: algunos commodities importantes como el precio diario del crudo, el tesoro a 10 años de Estados Unidos y el índice de volatilidad de los mercados, VIX;\n",
    "\\item Indicadores técnicos ligados al volúmen, momentum, volatilidad y datos de velas diarias de BTC;\n",
    "\\item Metricas on-chain, i.e., métricas relacionadas pura y exclusivamente con la Blockchain.\n",
    "\\end{itemize}"
   ]
  },
  {
   "cell_type": "markdown",
   "metadata": {},
   "source": [
    "#### <font color= darkblue> Features</font>\n",
    "\n",
    "\\begin{center}\n",
    "\t\\begin{tabular}{|p{0.3\\linewidth} | p{0.6\\linewidth}|}\n",
    "\t\t\\hline\n",
    "\t\t\\textbf{CME\\_BitcoinFutures} & Contratos futuros diarios del Bitcoin\\\\ \\hline\n",
    "\t\t\\textbf{ETH} & Datos de cierre diarios de Ethereum\\\\ \\hline\n",
    "\t\t\\textbf{CRUDE, Gold, Treasury\\_10} & Futuros de OIL y de Oro, y precios de cierre del yield del tesoro americano a 10 años\\\\ \\hline\n",
    "\t\t\\textbf{SPY} & Futuros del S\\&P\\\\ \\hline\n",
    "\t\t\\textbf{ATR} & Average True Range (ATR): Un indicador técnico de la volatilidad del BTC\\\\ \\hline\n",
    "\t\t\\textbf{OBV} & On-balance volume (OBV) es un indicador técnico de momentum que utiliza el volumen diario del Bitcoin\\\\ \\hline\n",
    "\t\t\\textbf{sma14, sma60} & Medias móviles simples a 14 y 60 días del precio de cierre diario del Bitcoin\\\\ \\hline\n",
    "\t\t\\textbf{vol14, vol60} & Indices de volatilidad implícita de 14 y 60 días de los retornos diarios del Bitcoin\\\\ \\hline\n",
    "\t\t\\textbf{sma20, b\\_upper, b\\_lower} & Las Bollinger Bands son otro indicador técnico utilizado para medir la sobrecompra o sobreventa de un activo\\\\ \\hline\n",
    "\t\t\\textbf{MOM5D} & Momentum a 5 dias del retorno diario del Bitcoin\\\\ \\hline\n",
    "\t\t\\textbf{High, Low, Last, Bid, Ask, VWAP, Volume} & Datos técnicos diarios del Bitcoin\\\\ \\hline\n",
    "\t\t\\textbf{Returns} & Los retornos respecto al precio de cierre del Bitcoin del día anterior \\\\ \\hline\n",
    "\t\t\\textbf{MVRV\\_FF} & Cociente entre la capitalización de mercado de bitcoin y su capitalización efectiva. Esta última toma en cuenta, para un determinado grupo de BTC, el precio que tenían la última vez que fueron movidos\\\\ \\hline\n",
    "\t\t\\textbf{HashRate} & Velocidad a la que se completan los cálculos (proof-of-work) en todos los mineros de la red.\\\\ \\hline\n",
    "\t\t\\textbf{Miner\\_revenue} & La suma del valor en USD de todos los ingresos de los mineros (tarifas más unidades nativas emitidas recientemente) diario.\\\\ \\hline\n",
    "\t\\end{tabular}\n",
    "\\end{center}"
   ]
  },
  {
   "cell_type": "markdown",
   "metadata": {},
   "source": [
    "Definimos las funciones que usaremos para el cálculo de algunas de las features anteriores."
   ]
  },
  {
   "cell_type": "code",
   "execution_count": 5,
   "metadata": {},
   "outputs": [],
   "source": [
    "# we assume that df's order is increasing in dates\n",
    "def ATR(df,n):\n",
    "    \"function to calculate True Range and Average True Range\"\n",
    "    df = df.copy()\n",
    "\n",
    "    df['H-L']  = abs(df['High']-df['Low'])\n",
    "    df['H-PO'] = abs(df['High']-df['Open'].shift(1))\n",
    "    df['L-PO'] = abs(df['Low']-df['Open'].shift(1))\n",
    "    \n",
    "    df['TR']   = df[['H-L','H-PO','L-PO']].max(axis=1,skipna=False)\n",
    "    df['ATR']  = df['TR'].rolling(n).mean()\n",
    "\n",
    "    df2 = df.drop(['H-L','H-PO','L-PO'],axis=1)\n",
    "    return df2\n",
    "\n",
    "def OBV(df):\n",
    "\tn=len(df)\n",
    "\tOBV=[]\n",
    "\tOBV.append(0)\n",
    "\tfor i in range(0,n-1):\n",
    "\t\tif df['Price'][i]<df['Price'][i+1]:\n",
    "\t\t\tOBV.append(OBV[i]+df['Volume'][i+1])\n",
    "\t\telif df['Price'][i]>df['Price'][i+1]:\n",
    "\t\t\tOBV.append(OBV[i]-df['Volume'][i+1])\n",
    "\treturn OBV\n",
    "\n",
    "# 'CME_BitcoinFutures' and 'ETH' data is expressed as string, so we have to convert it to float.\n",
    "def text_currency_to_float(text):\n",
    "  t = text\n",
    "  dot_pos = t.rfind('.')\n",
    "  comma_pos = t.rfind(',')\n",
    "  if comma_pos > dot_pos:\n",
    "    t = t.replace(\".\", \"\")\n",
    "    t = t.replace(\",\", \".\")\n",
    "  else:\n",
    "    t = t.replace(\",\", \"\")\n",
    "\n",
    "  return(float(t))"
   ]
  },
  {
   "cell_type": "markdown",
   "metadata": {},
   "source": [
    "Cargamos los demás datos necesarios."
   ]
  },
  {
   "cell_type": "code",
   "execution_count": 6,
   "metadata": {},
   "outputs": [
    {
     "data": {
      "text/plain": [
       "(Date\n",
       " 2021-03-15    65.39\n",
       " 2021-03-14    65.96\n",
       " 2021-03-12    65.61\n",
       " 2021-03-11    66.02\n",
       " 2021-03-10    64.44\n",
       " Name: Price, dtype: float64,\n",
       " Date\n",
       " 2021-03-15    1.607\n",
       " 2021-03-14    1.637\n",
       " 2021-03-12    1.625\n",
       " 2021-03-11    1.535\n",
       " 2021-03-10    1.521\n",
       " Name: Price, dtype: float64,\n",
       " Date\n",
       " 2021-06-14    423.18\n",
       " 2021-06-11    424.31\n",
       " 2021-06-10    423.61\n",
       " 2021-06-09    421.65\n",
       " 2021-06-08    422.28\n",
       " Name: Price, dtype: float64,\n",
       " Date\n",
       " 2021-03-15    1729.20\n",
       " 2021-03-14    1723.75\n",
       " 2021-03-12    1719.80\n",
       " 2021-03-11    1722.60\n",
       " 2021-03-10    1721.80\n",
       " Name: Price, dtype: float64)"
      ]
     },
     "execution_count": 6,
     "metadata": {},
     "output_type": "execute_result"
    }
   ],
   "source": [
    "# Crudo\n",
    "CRUDE=pd.read_csv('data/Crude Oil WTI Futures Historical Data.csv', index_col=0, parse_dates=True).dropna()['Price']\n",
    "# 10-Y Treasury\n",
    "Treasury_10=pd.read_csv('data/United States 10-Year Bond Yield Historical Data.csv', index_col=0, parse_dates=True).dropna()['Price']\n",
    "# S&P Index\n",
    "SPY=pd.read_csv('data/SPY Historical Data.csv', index_col=0, parse_dates=True).dropna()['Price']\n",
    "# GOLD\n",
    "Gold=pd.read_csv('data/Gold Futures Historical Data.csv', index_col=0, parse_dates=True, thousands=',')['Price'].dropna()\n",
    "# Gold=Gold[::-1]\n",
    "CRUDE.head(),Treasury_10.head(),SPY.head(),Gold.head()"
   ]
  },
  {
   "cell_type": "markdown",
   "metadata": {},
   "source": [
    "Procedemos a armar el dataframe con todos las features y la muestra de datos por un lado, y un dataframe con la variable respuesta correspondiente por otro."
   ]
  },
  {
   "cell_type": "markdown",
   "metadata": {},
   "source": [
    "Empecemos por los factores ligados directamente con BTC."
   ]
  },
  {
   "cell_type": "code",
   "execution_count": 7,
   "metadata": {},
   "outputs": [],
   "source": [
    "# BTC's spot price related Indicators\n",
    "Bitcoin['CME_BitcoinFutures']=pd.read_csv('data/Bitcoin Futures CME Historical Data.csv', index_col=0, parse_dates=True).dropna()['Price']\n",
    "Bitcoin['ETH']=pd.read_csv('data/Ethereum Historical Data.csv', index_col=0, parse_dates=True).dropna()['Price']"
   ]
  },
  {
   "cell_type": "markdown",
   "metadata": {},
   "source": [
    "Sigamos con los factores macro."
   ]
  },
  {
   "cell_type": "code",
   "execution_count": 8,
   "metadata": {},
   "outputs": [],
   "source": [
    "# Macro Indicators\n",
    "Bitcoin['CRUDE']=CRUDE\n",
    "Bitcoin['Gold']=Gold\n",
    "Bitcoin['Treasury_10']=Treasury_10\n",
    "Bitcoin['SPY']=SPY"
   ]
  },
  {
   "cell_type": "markdown",
   "metadata": {},
   "source": [
    "Continuamos con los factores tecnicos."
   ]
  },
  {
   "cell_type": "code",
   "execution_count": 9,
   "metadata": {},
   "outputs": [],
   "source": [
    "# BTC's returns\n",
    "Bitcoin['Returns']=np.around(Bitcoin['Last'].pct_change().dropna(),3)\n",
    "#ATR\n",
    "Bitcoin=Bitcoin.rename(columns={'Last':'Open'}) # ATR uses 'Open' so we have to rename 'Last'\n",
    "ATR_Bitcoin = ATR(Bitcoin,21)['ATR']\n",
    "Bitcoin=Bitcoin.rename(columns={'Open':'Last'}) # We change it to 'Last' again\n",
    "Bitcoin['ATR']=ATR_Bitcoin\n",
    "#OBV\n",
    "Bitcoin['OBV']=OBV(Bitcoin.rename(columns={'Last':'Price'})) # OBV uses 'Price' so we change it\n",
    "\n",
    "# Classic Technnical Indicators\n",
    "# Simple Moving Averages\n",
    "# 2 week\n",
    "Bitcoin['sma14'] = Bitcoin['Last'].rolling(14).mean()\n",
    "# 2 month\n",
    "Bitcoin['sma60'] = Bitcoin['Last'].rolling(60).mean()\n",
    "\n",
    "# Rolling Volatility (annualized assuming 365 trading days)\n",
    "# 2 week\n",
    "Bitcoin['vol14'] = Bitcoin['Returns'].rolling(14).std() * np.sqrt(365)\n",
    "# 2 month\n",
    "Bitcoin['vol60'] = Bitcoin['Returns'].rolling(60).std() * np.sqrt(365)\n",
    "\n",
    "\n",
    "# Bollinger Bands\n",
    "# 20 day simple moving average\n",
    "Bitcoin['sma20'] = Bitcoin['Last'].rolling(20).mean()\n",
    "# Upper band\n",
    "Bitcoin['b_upper'] = Bitcoin['sma20'] + 2 * Bitcoin['sma20'].rolling(20).std()\n",
    "# Lower band\n",
    "Bitcoin['b_lower'] = Bitcoin['sma20'] - 2 * Bitcoin['sma20'].rolling(20).std()\n",
    "\n",
    "# Momentum\n",
    "MOM5D=np.around([Bitcoin['Last'][t]-Bitcoin['Last'][t-5] for t in range(5,len(Bitcoin['Last']))],3)\n",
    "# For these features we have to reduce the sample size due to min{len(MOM5D),len(STD21D)}<len(Bitcoin)\n",
    "N=len(MOM5D)\n",
    "Bitcoin=Bitcoin[::-1].iloc[range(0,N)] \n",
    "Bitcoin=Bitcoin[::-1] \n",
    "Bitcoin['MOM5D']=MOM5D"
   ]
  },
  {
   "cell_type": "markdown",
   "metadata": {},
   "source": [
    "Finalizamos con los factores on-chain."
   ]
  },
  {
   "cell_type": "code",
   "execution_count": 10,
   "metadata": {},
   "outputs": [],
   "source": [
    "# On-chain metrics\n",
    "on_chain_metrics=pd.read_csv('data/btc.csv', index_col=0, parse_dates=True).dropna()\n",
    "Bitcoin['MVRV_FF']=on_chain_metrics['CapMVRVFF']\n",
    "Bitcoin['HashRate']=on_chain_metrics['HashRate']\n",
    "Bitcoin['Miner_revenue']=on_chain_metrics['RevUSD']"
   ]
  },
  {
   "cell_type": "markdown",
   "metadata": {},
   "source": [
    "Acomodemos los ultimos detalles del dataset."
   ]
  },
  {
   "cell_type": "code",
   "execution_count": 11,
   "metadata": {},
   "outputs": [],
   "source": [
    "# We drop features we won't use\n",
    "Bitcoin.drop('Volume',axis=1,inplace=True)\n",
    "Bitcoin.drop('VWAP',axis=1,inplace=True)\n",
    "\n",
    "# We drop NANs\n",
    "Bitcoin=Bitcoin.dropna()\n",
    "Bitcoin=Bitcoin[::-1] # We let it ordered decresently\n",
    "\n",
    "# We transform string value to float\n",
    "n_1=len(Bitcoin['CME_BitcoinFutures'])\n",
    "n_2=len(Bitcoin['ETH'])\n",
    "for i in range(0,n_1):\n",
    "\tBitcoin['CME_BitcoinFutures'][i]=text_currency_to_float(Bitcoin['CME_BitcoinFutures'][i])\n",
    "for i in range(0,n_2):\n",
    "\tBitcoin['ETH'][i]=text_currency_to_float(Bitcoin['ETH'][i])"
   ]
  },
  {
   "cell_type": "code",
   "execution_count": 12,
   "metadata": {},
   "outputs": [
    {
     "data": {
      "text/html": [
       "<div>\n",
       "<style scoped>\n",
       "    .dataframe tbody tr th:only-of-type {\n",
       "        vertical-align: middle;\n",
       "    }\n",
       "\n",
       "    .dataframe tbody tr th {\n",
       "        vertical-align: top;\n",
       "    }\n",
       "\n",
       "    .dataframe thead th {\n",
       "        text-align: right;\n",
       "    }\n",
       "</style>\n",
       "<table border=\"1\" class=\"dataframe\">\n",
       "  <thead>\n",
       "    <tr style=\"text-align: right;\">\n",
       "      <th></th>\n",
       "      <th>High</th>\n",
       "      <th>Low</th>\n",
       "      <th>Last</th>\n",
       "      <th>Bid</th>\n",
       "      <th>Ask</th>\n",
       "      <th>CME_BitcoinFutures</th>\n",
       "      <th>ETH</th>\n",
       "      <th>CRUDE</th>\n",
       "      <th>Gold</th>\n",
       "      <th>Treasury_10</th>\n",
       "      <th>...</th>\n",
       "      <th>sma60</th>\n",
       "      <th>vol14</th>\n",
       "      <th>vol60</th>\n",
       "      <th>sma20</th>\n",
       "      <th>b_upper</th>\n",
       "      <th>b_lower</th>\n",
       "      <th>MOM5D</th>\n",
       "      <th>MVRV_FF</th>\n",
       "      <th>HashRate</th>\n",
       "      <th>Miner_revenue</th>\n",
       "    </tr>\n",
       "    <tr>\n",
       "      <th>Date</th>\n",
       "      <th></th>\n",
       "      <th></th>\n",
       "      <th></th>\n",
       "      <th></th>\n",
       "      <th></th>\n",
       "      <th></th>\n",
       "      <th></th>\n",
       "      <th></th>\n",
       "      <th></th>\n",
       "      <th></th>\n",
       "      <th></th>\n",
       "      <th></th>\n",
       "      <th></th>\n",
       "      <th></th>\n",
       "      <th></th>\n",
       "      <th></th>\n",
       "      <th></th>\n",
       "      <th></th>\n",
       "      <th></th>\n",
       "      <th></th>\n",
       "      <th></th>\n",
       "    </tr>\n",
       "  </thead>\n",
       "  <tbody>\n",
       "    <tr>\n",
       "      <th>2021-03-15</th>\n",
       "      <td>60748.78</td>\n",
       "      <td>54555.00</td>\n",
       "      <td>56196.91</td>\n",
       "      <td>56174.41</td>\n",
       "      <td>56188.70</td>\n",
       "      <td>56900</td>\n",
       "      <td>1792.38</td>\n",
       "      <td>65.39</td>\n",
       "      <td>1729.2</td>\n",
       "      <td>1.607</td>\n",
       "      <td>...</td>\n",
       "      <td>44215.250000</td>\n",
       "      <td>0.871893</td>\n",
       "      <td>0.990229</td>\n",
       "      <td>51234.6965</td>\n",
       "      <td>53035.655045</td>\n",
       "      <td>49433.737955</td>\n",
       "      <td>1269.62</td>\n",
       "      <td>2.684984</td>\n",
       "      <td>1.577976e+08</td>\n",
       "      <td>5.829371e+07</td>\n",
       "    </tr>\n",
       "    <tr>\n",
       "      <th>2021-03-12</th>\n",
       "      <td>58155.99</td>\n",
       "      <td>54269.00</td>\n",
       "      <td>57881.67</td>\n",
       "      <td>57847.33</td>\n",
       "      <td>57877.59</td>\n",
       "      <td>57075</td>\n",
       "      <td>1766.9</td>\n",
       "      <td>65.61</td>\n",
       "      <td>1719.8</td>\n",
       "      <td>1.625</td>\n",
       "      <td>...</td>\n",
       "      <td>43085.588333</td>\n",
       "      <td>0.689272</td>\n",
       "      <td>1.006402</td>\n",
       "      <td>50882.4560</td>\n",
       "      <td>53976.590052</td>\n",
       "      <td>47788.321948</td>\n",
       "      <td>8977.04</td>\n",
       "      <td>2.788931</td>\n",
       "      <td>1.599300e+08</td>\n",
       "      <td>6.042612e+07</td>\n",
       "    </tr>\n",
       "    <tr>\n",
       "      <th>2021-03-11</th>\n",
       "      <td>57402.89</td>\n",
       "      <td>53010.00</td>\n",
       "      <td>55853.90</td>\n",
       "      <td>55914.60</td>\n",
       "      <td>55920.20</td>\n",
       "      <td>57955</td>\n",
       "      <td>1825.79</td>\n",
       "      <td>66.02</td>\n",
       "      <td>1722.6</td>\n",
       "      <td>1.535</td>\n",
       "      <td>...</td>\n",
       "      <td>42756.627167</td>\n",
       "      <td>0.760553</td>\n",
       "      <td>1.015140</td>\n",
       "      <td>50789.4945</td>\n",
       "      <td>54579.461703</td>\n",
       "      <td>46999.527297</td>\n",
       "      <td>7067.05</td>\n",
       "      <td>2.836648</td>\n",
       "      <td>1.407384e+08</td>\n",
       "      <td>5.421704e+07</td>\n",
       "    </tr>\n",
       "    <tr>\n",
       "      <th>2021-03-10</th>\n",
       "      <td>54939.26</td>\n",
       "      <td>51857.00</td>\n",
       "      <td>54927.29</td>\n",
       "      <td>54901.04</td>\n",
       "      <td>54927.49</td>\n",
       "      <td>56620</td>\n",
       "      <td>1794.14</td>\n",
       "      <td>64.44</td>\n",
       "      <td>1721.8</td>\n",
       "      <td>1.521</td>\n",
       "      <td>...</td>\n",
       "      <td>42496.762167</td>\n",
       "      <td>0.760553</td>\n",
       "      <td>1.015749</td>\n",
       "      <td>50578.5135</td>\n",
       "      <td>55113.766735</td>\n",
       "      <td>46043.260265</td>\n",
       "      <td>6566.79</td>\n",
       "      <td>2.781060</td>\n",
       "      <td>1.588638e+08</td>\n",
       "      <td>5.839441e+07</td>\n",
       "    </tr>\n",
       "    <tr>\n",
       "      <th>2021-03-09</th>\n",
       "      <td>52427.91</td>\n",
       "      <td>49316.98</td>\n",
       "      <td>52427.91</td>\n",
       "      <td>52432.31</td>\n",
       "      <td>52439.00</td>\n",
       "      <td>54720</td>\n",
       "      <td>1869.1</td>\n",
       "      <td>64.01</td>\n",
       "      <td>1716.9</td>\n",
       "      <td>1.528</td>\n",
       "      <td>...</td>\n",
       "      <td>42259.660000</td>\n",
       "      <td>0.899468</td>\n",
       "      <td>1.012145</td>\n",
       "      <td>50441.5030</td>\n",
       "      <td>55709.379218</td>\n",
       "      <td>45173.626782</td>\n",
       "      <td>2039.70</td>\n",
       "      <td>2.730933</td>\n",
       "      <td>1.492680e+08</td>\n",
       "      <td>5.371268e+07</td>\n",
       "    </tr>\n",
       "  </tbody>\n",
       "</table>\n",
       "<p>5 rows × 25 columns</p>\n",
       "</div>"
      ],
      "text/plain": [
       "                High       Low      Last       Bid       Ask  \\\n",
       "Date                                                           \n",
       "2021-03-15  60748.78  54555.00  56196.91  56174.41  56188.70   \n",
       "2021-03-12  58155.99  54269.00  57881.67  57847.33  57877.59   \n",
       "2021-03-11  57402.89  53010.00  55853.90  55914.60  55920.20   \n",
       "2021-03-10  54939.26  51857.00  54927.29  54901.04  54927.49   \n",
       "2021-03-09  52427.91  49316.98  52427.91  52432.31  52439.00   \n",
       "\n",
       "           CME_BitcoinFutures      ETH  CRUDE    Gold  Treasury_10  ...  \\\n",
       "Date                                                                ...   \n",
       "2021-03-15              56900  1792.38  65.39  1729.2        1.607  ...   \n",
       "2021-03-12              57075   1766.9  65.61  1719.8        1.625  ...   \n",
       "2021-03-11              57955  1825.79  66.02  1722.6        1.535  ...   \n",
       "2021-03-10              56620  1794.14  64.44  1721.8        1.521  ...   \n",
       "2021-03-09              54720   1869.1  64.01  1716.9        1.528  ...   \n",
       "\n",
       "                   sma60     vol14     vol60       sma20       b_upper  \\\n",
       "Date                                                                     \n",
       "2021-03-15  44215.250000  0.871893  0.990229  51234.6965  53035.655045   \n",
       "2021-03-12  43085.588333  0.689272  1.006402  50882.4560  53976.590052   \n",
       "2021-03-11  42756.627167  0.760553  1.015140  50789.4945  54579.461703   \n",
       "2021-03-10  42496.762167  0.760553  1.015749  50578.5135  55113.766735   \n",
       "2021-03-09  42259.660000  0.899468  1.012145  50441.5030  55709.379218   \n",
       "\n",
       "                 b_lower    MOM5D   MVRV_FF      HashRate  Miner_revenue  \n",
       "Date                                                                      \n",
       "2021-03-15  49433.737955  1269.62  2.684984  1.577976e+08   5.829371e+07  \n",
       "2021-03-12  47788.321948  8977.04  2.788931  1.599300e+08   6.042612e+07  \n",
       "2021-03-11  46999.527297  7067.05  2.836648  1.407384e+08   5.421704e+07  \n",
       "2021-03-10  46043.260265  6566.79  2.781060  1.588638e+08   5.839441e+07  \n",
       "2021-03-09  45173.626782  2039.70  2.730933  1.492680e+08   5.371268e+07  \n",
       "\n",
       "[5 rows x 25 columns]"
      ]
     },
     "execution_count": 12,
     "metadata": {},
     "output_type": "execute_result"
    }
   ],
   "source": [
    "X=Bitcoin.copy()\n",
    "X.head()"
   ]
  },
  {
   "cell_type": "markdown",
   "metadata": {},
   "source": [
    "El listado final de features es el siguiente."
   ]
  },
  {
   "cell_type": "code",
   "execution_count": 13,
   "metadata": {},
   "outputs": [
    {
     "data": {
      "text/plain": [
       "['High',\n",
       " 'Low',\n",
       " 'Last',\n",
       " 'Bid',\n",
       " 'Ask',\n",
       " 'CME_BitcoinFutures',\n",
       " 'ETH',\n",
       " 'CRUDE',\n",
       " 'Gold',\n",
       " 'Treasury_10',\n",
       " 'SPY',\n",
       " 'Returns',\n",
       " 'ATR',\n",
       " 'OBV',\n",
       " 'sma14',\n",
       " 'sma60',\n",
       " 'vol14',\n",
       " 'vol60',\n",
       " 'sma20',\n",
       " 'b_upper',\n",
       " 'b_lower',\n",
       " 'MOM5D',\n",
       " 'MVRV_FF',\n",
       " 'HashRate',\n",
       " 'Miner_revenue']"
      ]
     },
     "execution_count": 13,
     "metadata": {},
     "output_type": "execute_result"
    }
   ],
   "source": [
    "list(X.keys())"
   ]
  },
  {
   "cell_type": "markdown",
   "metadata": {},
   "source": [
    "Por último, armamos el dataframe con la variable respuesta, es decir la dirección del movimiento diario futuro del BTC. Notar que esta dirección puede interpretarse matemáticamente como el signo del retorno."
   ]
  },
  {
   "cell_type": "code",
   "execution_count": 14,
   "metadata": {},
   "outputs": [],
   "source": [
    "# Our response feature will be the sign of BTC's returns (i.e. movement direction)\n",
    "Y=pd.DataFrame({\n",
    "\t'Sign': np.sign(X['Returns'])})\n",
    "# We transform 0's into 1's in order to work with a binary classification problem. We could have used LabelEncoder().\n",
    "for i in range(len(Y['Sign'])):\n",
    "\tif Y['Sign'][i]==0:\n",
    "\t\tY['Sign'][i]=1"
   ]
  },
  {
   "cell_type": "code",
   "execution_count": 15,
   "metadata": {},
   "outputs": [
    {
     "data": {
      "text/plain": [
       "(                High       Low      Last       Bid       Ask  \\\n",
       " Date                                                           \n",
       " 2021-03-15  60748.78  54555.00  56196.91  56174.41  56188.70   \n",
       " 2021-03-12  58155.99  54269.00  57881.67  57847.33  57877.59   \n",
       " 2021-03-11  57402.89  53010.00  55853.90  55914.60  55920.20   \n",
       " 2021-03-10  54939.26  51857.00  54927.29  54901.04  54927.49   \n",
       " 2021-03-09  52427.91  49316.98  52427.91  52432.31  52439.00   \n",
       " \n",
       "            CME_BitcoinFutures      ETH  CRUDE    Gold  Treasury_10  ...  \\\n",
       " Date                                                                ...   \n",
       " 2021-03-15              56900  1792.38  65.39  1729.2        1.607  ...   \n",
       " 2021-03-12              57075   1766.9  65.61  1719.8        1.625  ...   \n",
       " 2021-03-11              57955  1825.79  66.02  1722.6        1.535  ...   \n",
       " 2021-03-10              56620  1794.14  64.44  1721.8        1.521  ...   \n",
       " 2021-03-09              54720   1869.1  64.01  1716.9        1.528  ...   \n",
       " \n",
       "                    sma60     vol14     vol60       sma20       b_upper  \\\n",
       " Date                                                                     \n",
       " 2021-03-15  44215.250000  0.871893  0.990229  51234.6965  53035.655045   \n",
       " 2021-03-12  43085.588333  0.689272  1.006402  50882.4560  53976.590052   \n",
       " 2021-03-11  42756.627167  0.760553  1.015140  50789.4945  54579.461703   \n",
       " 2021-03-10  42496.762167  0.760553  1.015749  50578.5135  55113.766735   \n",
       " 2021-03-09  42259.660000  0.899468  1.012145  50441.5030  55709.379218   \n",
       " \n",
       "                  b_lower    MOM5D   MVRV_FF      HashRate  Miner_revenue  \n",
       " Date                                                                      \n",
       " 2021-03-15  49433.737955  1269.62  2.684984  1.577976e+08   5.829371e+07  \n",
       " 2021-03-12  47788.321948  8977.04  2.788931  1.599300e+08   6.042612e+07  \n",
       " 2021-03-11  46999.527297  7067.05  2.836648  1.407384e+08   5.421704e+07  \n",
       " 2021-03-10  46043.260265  6566.79  2.781060  1.588638e+08   5.839441e+07  \n",
       " 2021-03-09  45173.626782  2039.70  2.730933  1.492680e+08   5.371268e+07  \n",
       " \n",
       " [5 rows x 25 columns],\n",
       "             Sign\n",
       " Date            \n",
       " 2021-03-15  -1.0\n",
       " 2021-03-12   1.0\n",
       " 2021-03-11   1.0\n",
       " 2021-03-10   1.0\n",
       " 2021-03-09   1.0)"
      ]
     },
     "execution_count": 15,
     "metadata": {},
     "output_type": "execute_result"
    }
   ],
   "source": [
    "X.head(), Y.head()"
   ]
  },
  {
   "cell_type": "markdown",
   "metadata": {},
   "source": [
    "Escalamos los datos para evitar problemas provocados por órdenes de magnitudes distintos."
   ]
  },
  {
   "cell_type": "code",
   "execution_count": 16,
   "metadata": {},
   "outputs": [],
   "source": [
    "# We escalate the data in order to perform the feature selection methods\n",
    "scaler = MinMaxScaler()\n",
    "scaled_X = scaler.fit_transform(X)\n",
    "\n",
    "# We let X as a dataframe\n",
    "X=pd.DataFrame(scaled_X,columns=list(Bitcoin.keys()),index=Bitcoin.index)  "
   ]
  },
  {
   "cell_type": "code",
   "execution_count": 17,
   "metadata": {},
   "outputs": [
    {
     "data": {
      "text/html": [
       "<div>\n",
       "<style scoped>\n",
       "    .dataframe tbody tr th:only-of-type {\n",
       "        vertical-align: middle;\n",
       "    }\n",
       "\n",
       "    .dataframe tbody tr th {\n",
       "        vertical-align: top;\n",
       "    }\n",
       "\n",
       "    .dataframe thead th {\n",
       "        text-align: right;\n",
       "    }\n",
       "</style>\n",
       "<table border=\"1\" class=\"dataframe\">\n",
       "  <thead>\n",
       "    <tr style=\"text-align: right;\">\n",
       "      <th></th>\n",
       "      <th>High</th>\n",
       "      <th>Low</th>\n",
       "      <th>Last</th>\n",
       "      <th>Bid</th>\n",
       "      <th>Ask</th>\n",
       "      <th>CME_BitcoinFutures</th>\n",
       "      <th>ETH</th>\n",
       "      <th>CRUDE</th>\n",
       "      <th>Gold</th>\n",
       "      <th>Treasury_10</th>\n",
       "      <th>...</th>\n",
       "      <th>sma60</th>\n",
       "      <th>vol14</th>\n",
       "      <th>vol60</th>\n",
       "      <th>sma20</th>\n",
       "      <th>b_upper</th>\n",
       "      <th>b_lower</th>\n",
       "      <th>MOM5D</th>\n",
       "      <th>MVRV_FF</th>\n",
       "      <th>HashRate</th>\n",
       "      <th>Miner_revenue</th>\n",
       "    </tr>\n",
       "    <tr>\n",
       "      <th>Date</th>\n",
       "      <th></th>\n",
       "      <th></th>\n",
       "      <th></th>\n",
       "      <th></th>\n",
       "      <th></th>\n",
       "      <th></th>\n",
       "      <th></th>\n",
       "      <th></th>\n",
       "      <th></th>\n",
       "      <th></th>\n",
       "      <th></th>\n",
       "      <th></th>\n",
       "      <th></th>\n",
       "      <th></th>\n",
       "      <th></th>\n",
       "      <th></th>\n",
       "      <th></th>\n",
       "      <th></th>\n",
       "      <th></th>\n",
       "      <th></th>\n",
       "      <th></th>\n",
       "    </tr>\n",
       "  </thead>\n",
       "  <tbody>\n",
       "    <tr>\n",
       "      <th>2021-03-15</th>\n",
       "      <td>1.000000</td>\n",
       "      <td>0.982002</td>\n",
       "      <td>0.970420</td>\n",
       "      <td>0.970610</td>\n",
       "      <td>0.970344</td>\n",
       "      <td>0.981513</td>\n",
       "      <td>0.915979</td>\n",
       "      <td>0.903367</td>\n",
       "      <td>0.580725</td>\n",
       "      <td>0.401540</td>\n",
       "      <td>...</td>\n",
       "      <td>1.000000</td>\n",
       "      <td>0.399087</td>\n",
       "      <td>0.630384</td>\n",
       "      <td>1.000000</td>\n",
       "      <td>0.892641</td>\n",
       "      <td>1.000000</td>\n",
       "      <td>0.550266</td>\n",
       "      <td>0.631542</td>\n",
       "      <td>0.900243</td>\n",
       "      <td>0.932720</td>\n",
       "    </tr>\n",
       "    <tr>\n",
       "      <th>2021-03-12</th>\n",
       "      <td>0.956582</td>\n",
       "      <td>0.976766</td>\n",
       "      <td>1.000000</td>\n",
       "      <td>1.000000</td>\n",
       "      <td>1.000000</td>\n",
       "      <td>0.984580</td>\n",
       "      <td>0.902861</td>\n",
       "      <td>0.905296</td>\n",
       "      <td>0.569140</td>\n",
       "      <td>0.408141</td>\n",
       "      <td>...</td>\n",
       "      <td>0.973884</td>\n",
       "      <td>0.301618</td>\n",
       "      <td>0.644549</td>\n",
       "      <td>0.992983</td>\n",
       "      <td>0.908815</td>\n",
       "      <td>0.966071</td>\n",
       "      <td>0.969812</td>\n",
       "      <td>0.662347</td>\n",
       "      <td>0.912653</td>\n",
       "      <td>0.968008</td>\n",
       "    </tr>\n",
       "    <tr>\n",
       "      <th>2021-03-11</th>\n",
       "      <td>0.943971</td>\n",
       "      <td>0.953714</td>\n",
       "      <td>0.964397</td>\n",
       "      <td>0.966046</td>\n",
       "      <td>0.965630</td>\n",
       "      <td>1.000000</td>\n",
       "      <td>0.933178</td>\n",
       "      <td>0.908892</td>\n",
       "      <td>0.572591</td>\n",
       "      <td>0.375138</td>\n",
       "      <td>...</td>\n",
       "      <td>0.966279</td>\n",
       "      <td>0.339663</td>\n",
       "      <td>0.652203</td>\n",
       "      <td>0.991131</td>\n",
       "      <td>0.919178</td>\n",
       "      <td>0.949806</td>\n",
       "      <td>0.865844</td>\n",
       "      <td>0.676488</td>\n",
       "      <td>0.800966</td>\n",
       "      <td>0.865257</td>\n",
       "    </tr>\n",
       "    <tr>\n",
       "      <th>2021-03-10</th>\n",
       "      <td>0.902715</td>\n",
       "      <td>0.932604</td>\n",
       "      <td>0.948128</td>\n",
       "      <td>0.948239</td>\n",
       "      <td>0.948198</td>\n",
       "      <td>0.976606</td>\n",
       "      <td>0.916885</td>\n",
       "      <td>0.895037</td>\n",
       "      <td>0.571605</td>\n",
       "      <td>0.370004</td>\n",
       "      <td>...</td>\n",
       "      <td>0.960272</td>\n",
       "      <td>0.339663</td>\n",
       "      <td>0.652736</td>\n",
       "      <td>0.986928</td>\n",
       "      <td>0.928363</td>\n",
       "      <td>0.930087</td>\n",
       "      <td>0.838613</td>\n",
       "      <td>0.660014</td>\n",
       "      <td>0.906448</td>\n",
       "      <td>0.934387</td>\n",
       "    </tr>\n",
       "    <tr>\n",
       "      <th>2021-03-09</th>\n",
       "      <td>0.860661</td>\n",
       "      <td>0.886098</td>\n",
       "      <td>0.904246</td>\n",
       "      <td>0.904868</td>\n",
       "      <td>0.904502</td>\n",
       "      <td>0.943312</td>\n",
       "      <td>0.955474</td>\n",
       "      <td>0.891266</td>\n",
       "      <td>0.565566</td>\n",
       "      <td>0.372571</td>\n",
       "      <td>...</td>\n",
       "      <td>0.954790</td>\n",
       "      <td>0.413804</td>\n",
       "      <td>0.649579</td>\n",
       "      <td>0.984199</td>\n",
       "      <td>0.938601</td>\n",
       "      <td>0.912155</td>\n",
       "      <td>0.592185</td>\n",
       "      <td>0.645159</td>\n",
       "      <td>0.850605</td>\n",
       "      <td>0.856911</td>\n",
       "    </tr>\n",
       "  </tbody>\n",
       "</table>\n",
       "<p>5 rows × 25 columns</p>\n",
       "</div>"
      ],
      "text/plain": [
       "                High       Low      Last       Bid       Ask  \\\n",
       "Date                                                           \n",
       "2021-03-15  1.000000  0.982002  0.970420  0.970610  0.970344   \n",
       "2021-03-12  0.956582  0.976766  1.000000  1.000000  1.000000   \n",
       "2021-03-11  0.943971  0.953714  0.964397  0.966046  0.965630   \n",
       "2021-03-10  0.902715  0.932604  0.948128  0.948239  0.948198   \n",
       "2021-03-09  0.860661  0.886098  0.904246  0.904868  0.904502   \n",
       "\n",
       "            CME_BitcoinFutures       ETH     CRUDE      Gold  Treasury_10  \\\n",
       "Date                                                                        \n",
       "2021-03-15            0.981513  0.915979  0.903367  0.580725     0.401540   \n",
       "2021-03-12            0.984580  0.902861  0.905296  0.569140     0.408141   \n",
       "2021-03-11            1.000000  0.933178  0.908892  0.572591     0.375138   \n",
       "2021-03-10            0.976606  0.916885  0.895037  0.571605     0.370004   \n",
       "2021-03-09            0.943312  0.955474  0.891266  0.565566     0.372571   \n",
       "\n",
       "            ...     sma60     vol14     vol60     sma20   b_upper   b_lower  \\\n",
       "Date        ...                                                               \n",
       "2021-03-15  ...  1.000000  0.399087  0.630384  1.000000  0.892641  1.000000   \n",
       "2021-03-12  ...  0.973884  0.301618  0.644549  0.992983  0.908815  0.966071   \n",
       "2021-03-11  ...  0.966279  0.339663  0.652203  0.991131  0.919178  0.949806   \n",
       "2021-03-10  ...  0.960272  0.339663  0.652736  0.986928  0.928363  0.930087   \n",
       "2021-03-09  ...  0.954790  0.413804  0.649579  0.984199  0.938601  0.912155   \n",
       "\n",
       "               MOM5D   MVRV_FF  HashRate  Miner_revenue  \n",
       "Date                                                     \n",
       "2021-03-15  0.550266  0.631542  0.900243       0.932720  \n",
       "2021-03-12  0.969812  0.662347  0.912653       0.968008  \n",
       "2021-03-11  0.865844  0.676488  0.800966       0.865257  \n",
       "2021-03-10  0.838613  0.660014  0.906448       0.934387  \n",
       "2021-03-09  0.592185  0.645159  0.850605       0.856911  \n",
       "\n",
       "[5 rows x 25 columns]"
      ]
     },
     "execution_count": 17,
     "metadata": {},
     "output_type": "execute_result"
    }
   ],
   "source": [
    "X.head()"
   ]
  },
  {
   "cell_type": "markdown",
   "metadata": {},
   "source": [
    "## <font color= darkblue> Selección de Features"
   ]
  },
  {
   "cell_type": "markdown",
   "metadata": {},
   "source": [
    "Los métodos de selección de features intentan reducir el número de features considerados de forma de quedarnos sólo con los que son más ''útiles'' para el modelo.\n",
    "\n",
    "Es menester hacer una distinción entre el tipo de análisis que estemos persiguiendo, diferenciando entre: un análisis descriptivo, un análisis predictivo o un análisis explicativo.\n",
    "\n",
    "El análisis o paradigma descriptivo involucra una simple mención de los hechos tal y como son. Este análisis no provee conclusiones ni generalizaciones sino que pretende brindar una idea amplia del problema a tratar y un resumen o estadísticas descriptivas como la media, desviaciones estándares, y algunos gráficos para una mejor visualización de los datos. En general, los método asociados a este paradigma están en el extremo (izquierdo) del eje de complejidad de los modelos, utilizando los más simples y parsimoniosos. Acá lo que importa es el ''qué''.\n",
    "\n",
    "El paradigma explicativo intenta no sólo describir sino, aún más, interpretar de forma intuitiva la relación entre las variables explicativas y la variable respuesta. Cuando estamos tratando con datos cuantitativos y estadísticos este análisis provee modelos matemáticos que vinculan todas las variables consideradas. Es decir, no se trata ya de describir sino de explicar las relaciones de causalidad entre los fenómenos estudiados. En general, involucran modelos estadísticos que están en el extremo derecho del eje de complejidad, utilizando métodos muy complejos. Podemos pensar que acá estamos buscando el ''por qué''.\n",
    "\n",
    "El análisis predictivo irá un paso más allá que el explicativo en tanto que utilizará las relaciones descubiertas en los otros paradigmas en datos desconocidos y eventos futuros. Hay que tener en cuenta que este análisis puede no involucrar el mismo modelo ni las mismas features que los análisis previos (en general, las features consideradas acá seran un subgrupo de las consideradas en el paradigma explicativo). Suele involucrar modelos que están en un punto medio en el eje de complejidad, intentando equilibrar el trade-off sesgo/varianza. Este análisis puede pensarse como el ''que tal si''.\n",
    "\n",
    "A continuación, usaremos dos métodos de selección de features que se suelen usar para el análisis explicativo. Aunque nosotros queramos realizar un análisis predictivo del fenómeno BTC, teniendo en cuenta que este suele quedarse con un subgrupo de las features consideradas en el approach explicativo, parece coherente y útil realizar esta reducción de variables explicativas. De hecho, existen muchas combinaciones posibles de features a elegir pero para no extendernos demasiado y mostrar una idea concreta, decidimos quedarnos con la que devuelven estos métodos."
   ]
  },
  {
   "cell_type": "markdown",
   "metadata": {},
   "source": [
    "#### <font color= darkblue> SelectKBest (para clasificación: f\\_classif)\n",
    "La clase SelectKBest puntea las features usando una cierta función (en este caso, f\\_classif, pero podría ser otra) y luego se queda sólo con las $K$ features con los scores más altos. La función f\\_classif es la función ANOVA F-value entre la variable respuesta y las explicativas para un problema de clasificación, donde por ANOVA F-value entendemos al test ANOVA referido al test F.\n",
    "\n",
    "ANOVA es un acrónimo para ''analysis of variance'' (análisis de la varianza) y es un test de hipótesis para determinar si la media de dos o más muestras de datos provienen de la misma distribución.\n",
    "\n",
    "El estadístico F, o test F, es una clase de test estadístico que calcula el ratio que representa la varianza explicada por el modelo o la varianza explicada por una prueba estadístia como ANOVA."
   ]
  },
  {
   "cell_type": "code",
   "execution_count": 18,
   "metadata": {},
   "outputs": [
    {
     "name": "stdout",
     "output_type": "stream",
     "text": [
      "                 Specs       Score\n",
      "11             Returns  890.526829\n",
      "21               MOM5D   54.597695\n",
      "22             MVRV_FF   13.104378\n",
      "7                CRUDE    1.843723\n",
      "15               sma60    0.834043\n",
      "9          Treasury_10    0.791836\n",
      "12                 ATR    0.609570\n",
      "16               vol14    0.592126\n",
      "19             b_upper    0.434973\n",
      "18               sma20    0.379058\n",
      "17               vol60    0.370301\n",
      "14               sma14    0.339373\n",
      "20             b_lower    0.303481\n",
      "23            HashRate    0.282368\n",
      "3                  Bid    0.245523\n",
      "2                 Last    0.244707\n",
      "4                  Ask    0.244136\n",
      "6                  ETH    0.151103\n",
      "8                 Gold    0.081456\n",
      "13                 OBV    0.070668\n",
      "10                 SPY    0.036414\n",
      "1                  Low    0.009375\n",
      "5   CME_BitcoinFutures    0.005251\n",
      "0                 High    0.003658\n",
      "24       Miner_revenue    0.000112\n"
     ]
    }
   ],
   "source": [
    "# We apply SelectKBest class to order the most relevant features with respect to f_classif\n",
    "bestfeatures = SelectKBest(score_func=f_classif, k=len(X.keys()))\n",
    "fit = bestfeatures.fit(X,Y)\n",
    "dfscores = pd.DataFrame(fit.scores_)\n",
    "dfcolumns = pd.DataFrame(X.columns)\n",
    "# we concat two dataframes for better visualization \n",
    "featureScores = pd.concat([dfcolumns,dfscores],axis=1)\n",
    "featureScores.columns = ['Specs','Score']  #naming the dataframe columns\n",
    "print(featureScores.nlargest(len(X.keys()),'Score'))  #print 10 best features"
   ]
  },
  {
   "cell_type": "markdown",
   "metadata": {},
   "source": [
    "Se puede ver que las variables más relevantes son Returns, MOM5D y MVRV_FF. Siguiendo en menor orden CRUDE y OBV."
   ]
  },
  {
   "cell_type": "markdown",
   "metadata": {},
   "source": [
    "#### <font color= darkblue> ExtraTreesClassifier\n",
    "\n",
    "A continuación, mostraremos otro método de selección de features basado en árboles de decisión. Aquí vamos a limitarnos sólo a aplicar el método, explicaremos un poco más en detalle el funcionamiento que hay detras cuando los usemos como algunos de los métodos para clasificar BTC.\n",
    "    \n",
    "##### <font color= darkblue> Árbol de decisión (Alta Varianza)\n",
    "    \n",
    "Un único árbol de decisión usualmente sobreajusta los datos que intenta aprender debido a que aprende a partir de una sóla ruta de decisiones. Predicciones resultantes de un sólo árbol de decisión usualmente no son precisas en datos out-of-sample.\n",
    "\n",
    "###### <font color= darkblue> Random Forest (Varianza Media)\n",
    "    \n",
    "Los modelos Random forest reducen el riesgo de overfitting introduciendo aleatoriedad como sigue:\n",
    "\\begin{itemize}\n",
    "\\item construyendo árboles múltiples (n\\_estimators);\n",
    "\\item extrayendo observaciones con reposición (i.e., muestras bootstrappeadas);\n",
    "\\item dividiendo los nodos en los mejores splits dentro de subconjuntos de features elejidos aleatoriamente en cada nodo.\n",
    "\\end{itemize}\n",
    "\n",
    "##### <font color= darkblue> Extremely Randomized Trees (or Extra Trees for short)\n",
    "    \n",
    "Es un modelo de ensemble learning.\n",
    "\n",
    "Específicamente, es el ensamblado de árboles de decisión y está relacionado a otros ensamblados de árboles de decisión tales como bagging y random forest.\n",
    "\n",
    "Esta clase implementa un estimador que fitea un número de árboles de decision aleatorizados (a.k.a. extra-trees) en varias sub-muestras del dataset y luego promedia para mejorar la precisión predictiva y controlar el overfitting. Árboles de decisión baggeados tales como extra-trees pueden ser usados para estimar la importancia de las features."
   ]
  },
  {
   "cell_type": "code",
   "execution_count": 19,
   "metadata": {
    "scrolled": false
   },
   "outputs": [
    {
     "name": "stdout",
     "output_type": "stream",
     "text": [
      "[0.0222907  0.02400196 0.02316062 0.02360408 0.02488308 0.02024736\n",
      " 0.0231295  0.02507648 0.02370783 0.02255004 0.0229715  0.41027764\n",
      " 0.02300074 0.0284889  0.01986143 0.0200545  0.02528026 0.02165071\n",
      " 0.02030617 0.02071386 0.02206399 0.05043872 0.02777895 0.02790695\n",
      " 0.02655405]\n"
     ]
    },
    {
     "data": {
      "image/png": "[encoded data removed]",
      "text/plain": [
       "<Figure size 1440x720 with 1 Axes>"
      ]
     },
     "metadata": {},
     "output_type": "display_data"
    }
   ],
   "source": [
    "model = ExtraTreesClassifier()\n",
    "model.fit(X,Y)\n",
    "print(model.feature_importances_) #use inbuilt class feature_importances of tree based classifiers\n",
    "#plot graph of feature importances for better visualization\n",
    "feat_importances = pd.Series(model.feature_importances_, index=X.columns)\n",
    "feat_importances.nlargest(len(X.keys())).plot(kind='barh')\n",
    "plt.show()"
   ]
  },
  {
   "cell_type": "markdown",
   "metadata": {},
   "source": [
    "Notar que esta metodología vuelve a devolver como features más relevantes a Returns y MOM5D, y en menor medida a OBV."
   ]
  },
  {
   "cell_type": "markdown",
   "metadata": {},
   "source": [
    "Nos quedamos con las 5 mejores features para esta última técnica."
   ]
  },
  {
   "cell_type": "code",
   "execution_count": 20,
   "metadata": {},
   "outputs": [],
   "source": [
    "best_feat=list(featureScores.nlargest(5,'Score')['Specs'])\n",
    "for i in list(featureScores['Specs']):\n",
    "\tif(i not in best_feat):\n",
    "\t\tX.drop(i,axis=1,inplace=True)"
   ]
  },
  {
   "cell_type": "code",
   "execution_count": 21,
   "metadata": {},
   "outputs": [
    {
     "data": {
      "text/html": [
       "<div>\n",
       "<style scoped>\n",
       "    .dataframe tbody tr th:only-of-type {\n",
       "        vertical-align: middle;\n",
       "    }\n",
       "\n",
       "    .dataframe tbody tr th {\n",
       "        vertical-align: top;\n",
       "    }\n",
       "\n",
       "    .dataframe thead th {\n",
       "        text-align: right;\n",
       "    }\n",
       "</style>\n",
       "<table border=\"1\" class=\"dataframe\">\n",
       "  <thead>\n",
       "    <tr style=\"text-align: right;\">\n",
       "      <th></th>\n",
       "      <th>CRUDE</th>\n",
       "      <th>Returns</th>\n",
       "      <th>sma60</th>\n",
       "      <th>MOM5D</th>\n",
       "      <th>MVRV_FF</th>\n",
       "    </tr>\n",
       "    <tr>\n",
       "      <th>Date</th>\n",
       "      <th></th>\n",
       "      <th></th>\n",
       "      <th></th>\n",
       "      <th></th>\n",
       "      <th></th>\n",
       "    </tr>\n",
       "  </thead>\n",
       "  <tbody>\n",
       "    <tr>\n",
       "      <th>2021-03-15</th>\n",
       "      <td>0.903367</td>\n",
       "      <td>0.366795</td>\n",
       "      <td>1.000000</td>\n",
       "      <td>0.550266</td>\n",
       "      <td>0.631542</td>\n",
       "    </tr>\n",
       "    <tr>\n",
       "      <th>2021-03-12</th>\n",
       "      <td>0.905296</td>\n",
       "      <td>0.592664</td>\n",
       "      <td>0.973884</td>\n",
       "      <td>0.969812</td>\n",
       "      <td>0.662347</td>\n",
       "    </tr>\n",
       "    <tr>\n",
       "      <th>2021-03-11</th>\n",
       "      <td>0.908892</td>\n",
       "      <td>0.555985</td>\n",
       "      <td>0.966279</td>\n",
       "      <td>0.865844</td>\n",
       "      <td>0.676488</td>\n",
       "    </tr>\n",
       "    <tr>\n",
       "      <th>2021-03-10</th>\n",
       "      <td>0.895037</td>\n",
       "      <td>0.615830</td>\n",
       "      <td>0.960272</td>\n",
       "      <td>0.838613</td>\n",
       "      <td>0.660014</td>\n",
       "    </tr>\n",
       "    <tr>\n",
       "      <th>2021-03-09</th>\n",
       "      <td>0.891266</td>\n",
       "      <td>0.577220</td>\n",
       "      <td>0.954790</td>\n",
       "      <td>0.592185</td>\n",
       "      <td>0.645159</td>\n",
       "    </tr>\n",
       "  </tbody>\n",
       "</table>\n",
       "</div>"
      ],
      "text/plain": [
       "               CRUDE   Returns     sma60     MOM5D   MVRV_FF\n",
       "Date                                                        \n",
       "2021-03-15  0.903367  0.366795  1.000000  0.550266  0.631542\n",
       "2021-03-12  0.905296  0.592664  0.973884  0.969812  0.662347\n",
       "2021-03-11  0.908892  0.555985  0.966279  0.865844  0.676488\n",
       "2021-03-10  0.895037  0.615830  0.960272  0.838613  0.660014\n",
       "2021-03-09  0.891266  0.577220  0.954790  0.592185  0.645159"
      ]
     },
     "execution_count": 21,
     "metadata": {},
     "output_type": "execute_result"
    }
   ],
   "source": [
    "X.head()"
   ]
  },
  {
   "cell_type": "markdown",
   "metadata": {},
   "source": [
    "### <font color= darkblue> Matriz de correlación\n",
    "La correlación (de Pearson) es una medida de dependencia lineal entre dos variables aleatorias cuantitativas. De manera menos formal, podemos definir el coeficiente de correlación de Pearson como un índice que puede utilizarse para medir el grado de relación de dos variables siempre y cuando ambas sean cuantitativas y continuas. En este caso, analizaremos la correlación entre las features de nuestro dataset. El objetivo será quedarnos con features que no estén (demasiado) correlacionadas, de modo que ofrezcan distinta información.\n",
    "\n",
    "Veamos como nos queda la matriz de correlaciones entre las features que quedaron."
   ]
  },
  {
   "cell_type": "code",
   "execution_count": 22,
   "metadata": {},
   "outputs": [
    {
     "data": {
      "image/png": "[encoded data removed]",
      "text/plain": [
       "<Figure size 1440x1440 with 2 Axes>"
      ]
     },
     "metadata": {},
     "output_type": "display_data"
    }
   ],
   "source": [
    "# Correlation Matrix with Heatmap\n",
    "corrmat = X.corr()\n",
    "top_corr_features = corrmat.index\n",
    "plt.figure(figsize=(20,20))\n",
    "#plot heat map\n",
    "g=sns.heatmap(X[top_corr_features].corr(),annot=True,cmap=\"RdYlGn\")\n",
    "plt.show()"
   ]
  },
  {
   "cell_type": "markdown",
   "metadata": {},
   "source": [
    "Se puede ver que hay baja correlación entre casi todas las features, lo cual nos indica que en algún sentido cada variable está aportando información distinta."
   ]
  },
  {
   "cell_type": "markdown",
   "metadata": {},
   "source": [
    "### <font color= darkblue> Split y normalización del dataset\n",
    "    \n",
    "El escalamiento de los features puede ayudar a los algoritmos a converger a minimos locales/globales eficientemente. Además, puede pasar que las medidas utilizadas en las features varien mucho en magnitud de una a otra pudiendo ''confundir'' al modelo, interpretando este que una feature es más relevante que las demás sólo por el hecho de utilizar números más grandes. Por ejemplo, si uno no normaliza podría suceder que en el proceso de actualización de los pesos en las redes neuronales por medio del método de descenso de gradiente, la actualización genere pasos demasiado grandes evitando que el método converja.\n",
    "\n",
    "Usaremos el escalador MinMaxScaler de la librería Sci-kit Learn."
   ]
  },
  {
   "cell_type": "markdown",
   "metadata": {},
   "source": [
    "#### <font color= darkblue>Split de los datos</font>\n",
    "Una parte critica del machine learning es tener una clara distinción entre los datos que se usarán para entrenar el modelo y los que se usarán para evaluar el poder predictivo del mismo. Por lo tanto, usaremos el clasico Train/Test split, con un Train set del 70\\% de los datos.\n",
    "\n",
    "Algunos de los métodos de machine learning que usaremos también permiten especificar si queremos considerar un Validation Set en el entrenamiento del modelo."
   ]
  },
  {
   "cell_type": "code",
   "execution_count": 23,
   "metadata": {},
   "outputs": [],
   "source": [
    "# 70% train/test split\n",
    "split = int(len(X) * 0.7)\n",
    "\n",
    "# We transform Y to a binary classification problem's values (0 y 1)\n",
    "from sklearn.preprocessing import LabelEncoder \n",
    "encoder = LabelEncoder() \n",
    "encoder.fit(Y) \n",
    "encoded_Y = encoder.transform(Y) \n",
    "# We transform encoded_Y into a dataframe in order to use .iloc and being able to make the train/test split\n",
    "Y = pd.DataFrame(encoded_Y, columns = ['Column_A'],index=Y.index) \n",
    "\n",
    "# Create train data set\n",
    "# We have to twist the dataset\n",
    "X_train, y_train = X[::-1][:split], Y[::-1][:split]\n",
    "# Test data after train split\n",
    "X_test, y_test = X[::-1][split:], Y[::-1][split:]\n",
    "\n",
    "\n",
    "# Scale the features MinMax for training and test datasets\n",
    "scaler = MinMaxScaler()\n",
    "scaled_X_train = scaler.fit_transform(X_train)\n",
    "scaled_X_test = scaler.transform(X_test)\n",
    "# We change from array to dataframe\n",
    "X_train=pd.DataFrame(scaled_X_train,columns=X.columns,index=X[::-1].iloc[:split].index)\n",
    "y_train=pd.DataFrame(y_train,columns=Y.columns,index=Y[::-1][:split].index)\n",
    "X_test=pd.DataFrame(scaled_X_test,columns=X.columns,index=X[::-1][split:].index)\n",
    "y_test=pd.DataFrame(y_test,columns=Y.columns,index=Y[::-1][split:].index)"
   ]
  },
  {
   "cell_type": "markdown",
   "metadata": {},
   "source": [
    "#### <font color= darkblue> Reacomodamiento de los datos\n",
    "Para la red neuronal LSTM necesitamos cambiar el formato de los datos dado que la red consume datos en 3 dimensiones de la forma: cantidad de datos, cantidad de time-steps y cantidad de features. "
   ]
  },
  {
   "cell_type": "code",
   "execution_count": 24,
   "metadata": {},
   "outputs": [],
   "source": [
    "# Reshaping the Data for LSTM and ALSTM\n",
    "# reshaping into 3D Array\n",
    "X_train_LSTM=np.array(scaled_X_train).reshape(len(scaled_X_train),1,len(list(X.keys()))) # len(scaled_train_data) samples; 1 timesteps per sample; 9 features per timestep or 1 samples; len(scaled_train_data) timesteps; 9 features per timestep?\n",
    "X_test_LSTM=np.array(scaled_X_test).reshape(len(scaled_X_test),1,len(list(X.keys())))"
   ]
  },
  {
   "cell_type": "markdown",
   "metadata": {},
   "source": [
    "\\clearpage"
   ]
  },
  {
   "cell_type": "markdown",
   "metadata": {},
   "source": [
    "# <font color= darkblue> Parte II:  Construcción de los modelos</font> "
   ]
  },
  {
   "cell_type": "markdown",
   "metadata": {},
   "source": [
    "A continuación, construiremos, entrenaremos y testearemos distintos modelos de la ciencia de datos para el problema en cuestión. \n",
    "\n",
    "Para cada modelo de ellos mostraremos su ''score'', es decir, su performance, en el test set.\n",
    "\n",
    "En el entrenamiento de cada modelo utilizaremos la función time de Python para medir el tiempo que tarda cada modelo en estudiar el train set.\n",
    "\n",
    "Además, para aquellos métodos que calculen coeficientes mostraremos también los valores de los coeficientes estimados, como para interpretar qué features son las más importantes para ese modelo. Notar que esta última idea podría haberse utilizado como método de feature selection o, al menos, como técnica para interpretar la relevancia de las features según cada modelo. De nuevo, para no extendernos por demás y poder cubrir las cosas que nos interesan, decidimos hacer el análisis directamente sobre el subgrupo de features que elegimos, pero cabe mencionar esta otra idea.\n",
    "\n",
    "No indagaremos en profundidad en el funcionamiento de los métodos ya que no es la intención del trabajo, sólo mencionaremos las ideas principales. Para el que le interese más información le sugerimos visite la bibliografía."
   ]
  },
  {
   "cell_type": "markdown",
   "metadata": {},
   "source": [
    "Definimos la lista vacía runtimes en la que guardaremos todos los tiempos de entrenamiento."
   ]
  },
  {
   "cell_type": "code",
   "execution_count": 25,
   "metadata": {},
   "outputs": [],
   "source": [
    "runtimes=[]"
   ]
  },
  {
   "cell_type": "markdown",
   "metadata": {},
   "source": [
    "### <font color= darkblue> 1. Naive Bayes\n",
    "    \n",
    "El método de Naive Bayes es un algoritmo de aprendizaje supervisado basado en la aplicación del teorema de bayes con la asunción ''naive'' o inocente de independencia condicional entre pares de features dado el valor de la clase de la variable respuesta.\n",
    "    \n",
    "En abstracto, el modelo de probabilidad para un clasificador es\n",
    "$$p(C|F_1,\\dots,F_n),$$\n",
    "sobre una variable dependiente discreta $C$. Esta variable está condicionada por varias variables independientes $F_1,\\dots,F_n$. Por el teorema de bayes tenemos\n",
    "$$p(C|F_1,\\dots,F_n)=\\frac{p(C)p(F_1,\\dots,F_n|C)}{p(F_1,\\dots,F_n)}.$$\n",
    "\n",
    "Como estamos asumiendo independencia, por la definición de probabilidad condicional tenemos\n",
    "$$p(C,F_1,\\dots,F_n)=p(C)\\prod p(F_i|C).$$\n",
    "    \n",
    "Luego\n",
    "$$p(C|F_1,\\dots,F_n)=\\frac{1}{Z}\\prod p(F_i|C),$$\n",
    "donde $Z$ es un factor que depende sólo de $F_1,\\dots,F_n$."
   ]
  },
  {
   "cell_type": "code",
   "execution_count": 26,
   "metadata": {},
   "outputs": [
    {
     "name": "stdout",
     "output_type": "stream",
     "text": [
      "Runtime: 0.0124969482421875\n",
      "score on test: 0.567\n",
      "score on train: 0.576\n"
     ]
    }
   ],
   "source": [
    "mnb = MultinomialNB()\n",
    "\n",
    "start_mnb = time.time()\n",
    "mnb.fit(X_train, y_train)\n",
    "end_mnb = time.time()\n",
    "mnb_runtime=end_mnb - start_mnb\n",
    "\n",
    "print('Runtime:',mnb_runtime)\n",
    "print(\"score on test: %.3f\"  %mnb.score(X_test, y_test))\n",
    "print(\"score on train: %.3f\" %mnb.score(X_train, y_train))"
   ]
  },
  {
   "cell_type": "code",
   "execution_count": 27,
   "metadata": {},
   "outputs": [],
   "source": [
    "runtimes.append(mnb_runtime)"
   ]
  },
  {
   "cell_type": "markdown",
   "metadata": {},
   "source": [
    "Orendenamos las features en orden decreciente en importancia, según el valor del coeficiente asignado por el modelo para cada feature."
   ]
  },
  {
   "cell_type": "code",
   "execution_count": 28,
   "metadata": {},
   "outputs": [
    {
     "name": "stdout",
     "output_type": "stream",
     "text": [
      "Returns --> -1.459\n",
      "CRUDE --> -1.531\n",
      "MOM5D --> -1.555\n",
      "sma60 --> -1.655\n",
      "MVRV_FF --> -1.904\n"
     ]
    }
   ],
   "source": [
    "coef=list(mnb.fit(X_train, y_train).coef_[0])\n",
    "max_coef_index=list(np.argsort(coef)[::-1])\n",
    "for i in max_coef_index:\n",
    "    print(list(X_train.columns)[i]+' --> %.3f' %coef[i])"
   ]
  },
  {
   "cell_type": "markdown",
   "metadata": {},
   "source": [
    "### <font color= darkblue> 2. Logistic Regression\n",
    "    \n",
    "Logistic regression es un modelo estadístico que en su forma básica usa una función logística para modelar una variable respuesta binaria a través del modelo lineal múltiple. \n",
    "    \n",
    "En este modelo, el logaritmo de la probabilidad (log-odds) para el valor ''+1'' es una combinación lineal de los predictores. La función que convierte el logaritmo de la probabilidad en una probabilidad se llama función logística, de ahí el nombre. La unidad de medida de la escala de las log-odds se llama logit (logistic unit).\n",
    "    \n",
    "El modelo es entonces\n",
    "$$logit(P (Y = 1|X)) = \\beta_0 + \\sum \\beta_i X_i.$$"
   ]
  },
  {
   "cell_type": "code",
   "execution_count": 29,
   "metadata": {},
   "outputs": [
    {
     "name": "stdout",
     "output_type": "stream",
     "text": [
      "Runtime: 0.0959172248840332\n",
      "score on test: 0.927\n",
      "score on train: 0.921\n"
     ]
    }
   ],
   "source": [
    "lr=LogisticRegression(max_iter=1000)\n",
    "\n",
    "start_lr = time.time()\n",
    "lr.fit(X_train, y_train)\n",
    "end_lr = time.time()\n",
    "lr_runtime=end_lr - start_lr\n",
    "\n",
    "print('Runtime:',lr_runtime)\n",
    "print(\"score on test: %.3f\" % lr.score(X_test, y_test))\n",
    "print(\"score on train: %.3f\" % lr.score(X_train, y_train))"
   ]
  },
  {
   "cell_type": "code",
   "execution_count": 30,
   "metadata": {},
   "outputs": [],
   "source": [
    "runtimes.append(lr_runtime)"
   ]
  },
  {
   "cell_type": "code",
   "execution_count": 31,
   "metadata": {},
   "outputs": [
    {
     "name": "stdout",
     "output_type": "stream",
     "text": [
      "Returns --> 10.576\n",
      "MOM5D --> 1.571\n",
      "MVRV_FF --> 0.459\n",
      "CRUDE --> 0.041\n",
      "sma60 --> -0.524\n"
     ]
    }
   ],
   "source": [
    "coef=list(lr.fit(X_train, y_train).coef_[0])\n",
    "max_coef_index=list(np.argsort(coef)[::-1])\n",
    "for i in max_coef_index:\n",
    "    print(list(X_train.columns)[i]+' --> %.3f' %coef[i])"
   ]
  },
  {
   "cell_type": "markdown",
   "metadata": {},
   "source": [
    "### <font color= darkblue> 3. K-Nearest Neighbours\n",
    "    \n",
    "El método de clasificación k-NN es un métedo que se basa en clasificar según la pluralidad de los votos de los $K$ vecinos ''mas cercanos'' del punto de la muestra que queremos clasificar y para una cierta noción de distancia. Por ejemplo, si $K=1$ el objeto se clasificará como la clase de su vecino más próximo.\n",
    "\n",
    "Como este algoritmo se basa en una distancia, si las features están representadas en distintas unidades o en escalas muy diferentes, la normalización de los datos puede mejorar dramáticamente la perfomance del método.\n",
    "\n",
    "Una peculiaridad del algotimo K-NN es su sensibilidad a la estructura local de los datos."
   ]
  },
  {
   "cell_type": "code",
   "execution_count": 32,
   "metadata": {},
   "outputs": [
    {
     "name": "stdout",
     "output_type": "stream",
     "text": [
      "Runtime: 0.006360292434692383\n",
      "score on test: 0.713\n",
      "score on train: 0.937\n"
     ]
    }
   ],
   "source": [
    "knn = KNeighborsClassifier(algorithm = 'brute', n_jobs=-1)\n",
    "\n",
    "start_knn = time.time()\n",
    "knn.fit(X_train, y_train)\n",
    "end_knn = time.time()\n",
    "knn_runtime=end_knn - start_knn\n",
    "\n",
    "print('Runtime:',knn_runtime)\n",
    "print(\"score on test: %.3f\" % knn.score(X_test, y_test))\n",
    "print(\"score on train: %.3f\" % knn.score(X_train, y_train))"
   ]
  },
  {
   "cell_type": "code",
   "execution_count": 33,
   "metadata": {},
   "outputs": [],
   "source": [
    "runtimes.append(knn_runtime)"
   ]
  },
  {
   "cell_type": "markdown",
   "metadata": {},
   "source": [
    "### <font color= darkblue> 4. Support Vector Machine (SVM)\n",
    "    \n",
    "SVM es un método de clasificación binaria que interpreta los datos como puntos en un espacio $p$-dimensional, con $p$ la cantidad de features consideradas, y lo que busca es separarlos por medio de un hiperplano, es decir, por medio de un subespacio del espacio ambiente de dimensión $p-1$. Como en general hay infinitos hiperplanos que separan los datos una buena elección es el que presenta la mayor separación, o márgen, entre las dos clases. Es decir, se elije el hiperplano que maximiza la distancia de este al punto más cercano de la muestra.\n",
    "    \n",
    "Una noción previa de la técnica de el Perceptrón es recomendada, pues puede pensarse a SVM como una mejora y generalización de la misma."
   ]
  },
  {
   "cell_type": "code",
   "execution_count": 34,
   "metadata": {},
   "outputs": [
    {
     "name": "stdout",
     "output_type": "stream",
     "text": [
      "Runtime: 0.011863946914672852\n",
      "score on test: 0.990\n",
      "score on train: 0.997\n"
     ]
    }
   ],
   "source": [
    "svm=LinearSVC(C=100)\n",
    "\n",
    "start_svm = time.time()\n",
    "svm.fit(X_train, y_train)\n",
    "end_svm = time.time()\n",
    "svm_runtime=end_svm - start_svm\n",
    "\n",
    "print('Runtime:',svm_runtime)\n",
    "print(\"score on test: %.3f\" % svm.score(X_test, y_test))\n",
    "print(\"score on train: %.3f\" % svm.score(X_train, y_train))"
   ]
  },
  {
   "cell_type": "code",
   "execution_count": 35,
   "metadata": {},
   "outputs": [],
   "source": [
    "runtimes.append(svm_runtime)"
   ]
  },
  {
   "cell_type": "code",
   "execution_count": 36,
   "metadata": {},
   "outputs": [
    {
     "name": "stdout",
     "output_type": "stream",
     "text": [
      "Returns --> 61.340\n",
      "MOM5D --> 0.540\n",
      "sma60 --> 0.132\n",
      "MVRV_FF --> 0.037\n",
      "CRUDE --> -0.084\n"
     ]
    }
   ],
   "source": [
    "coef=list(svm.fit(X_train, y_train).coef_[0])\n",
    "max_coef_index=list(np.argsort(coef)[::-1])\n",
    "for i in max_coef_index:\n",
    "    print(list(X_train.columns)[i]+' --> %.3f' %coef[i])"
   ]
  },
  {
   "cell_type": "markdown",
   "metadata": {},
   "source": [
    "### <font color= darkblue> 5. Decision Tree Classifier\n",
    "    \n",
    "Un árbol de decisión es una estructura formada por nodos, ramas y hojas, en el que cada nodo representa una prueba sobre un atributo (por ej. que $X_1>58$), cada rama representa el resultado de la prueba y cada hoja representa la etiqueta o clase para el dato considerado. El camino desde la raíz hasta las hojas representa reglas de clasificación.\n",
    "\n",
    "El árbol de decisión puede ser linealizado a reglas de decisión, donde el resultado es el contenido de las hojas, y las condiciones a lo largo de cada camino forma una conjunción en la forma de clausulas if. En general, las reglas tienen la forma siguiente:\n",
    "\n",
    "if condition1 and condition2 and condition3 then outcome.\n",
    "\n",
    "Es decir, un árbol de decisión es un método de aprendizaje superviasado y no paramétrico usado para clasificación y regresión cuyo objetivo es crear un modelo que prediga el valor de la variable respuesta a fuerza de aprender simples reglas de decisión (if-else) inferidas de las features."
   ]
  },
  {
   "cell_type": "code",
   "execution_count": 37,
   "metadata": {},
   "outputs": [
    {
     "name": "stdout",
     "output_type": "stream",
     "text": [
      "Runtime: 0.004984617233276367\n",
      "score on test: 1.000\n",
      "score on train: 1.000\n"
     ]
    }
   ],
   "source": [
    "clf = DecisionTreeClassifier()\n",
    "\n",
    "start_clf = time.time()\n",
    "clf.fit(X_train, y_train)\n",
    "end_clf = time.time()\n",
    "clf_runtime=end_clf - start_clf\n",
    "\n",
    "print('Runtime:',clf_runtime)\n",
    "print(\"score on test: %.3f\"  % clf.score(X_test, y_test))\n",
    "print(\"score on train: %.3f\" % clf.score(X_train, y_train))"
   ]
  },
  {
   "cell_type": "code",
   "execution_count": 38,
   "metadata": {},
   "outputs": [],
   "source": [
    "runtimes.append(clf_runtime)"
   ]
  },
  {
   "cell_type": "code",
   "execution_count": 39,
   "metadata": {},
   "outputs": [
    {
     "name": "stdout",
     "output_type": "stream",
     "text": [
      "Returns --> 1.000\n",
      "MVRV_FF --> 0.000\n",
      "MOM5D --> 0.000\n",
      "sma60 --> 0.000\n",
      "CRUDE --> 0.000\n"
     ]
    }
   ],
   "source": [
    "coef=list(clf.fit(X_train, y_train).feature_importances_)\n",
    "max_coef_index=list(np.argsort(coef)[::-1])\n",
    "for i in max_coef_index:\n",
    "    print(list(X_train.columns)[i]+' --> %.3f' %coef[i])"
   ]
  },
  {
   "cell_type": "markdown",
   "metadata": {},
   "source": [
    "Aplicar un único árbol de decisión a un dataset rico en features puede guiar a un problema de overfitting. De hecho, vemos que una precisión del 100\\% significa que el modelo se aprendió de memoria el conjunto de entrenamiento y, por ende, va a generalizar pobremente en el test set. \n",
    "\n",
    "Sin embargo, este problema puede evitarse afinando los parámetros del modelo o utilizando una técnica de ensemble learning como Random Forest. Los siguientes métodos muestran ejemplos de esto.\n",
    "\n",
    "En la bibliografía dejamos un link con un artículo que trata en profundidad el correcto seteo de los parámetros de un clasificador por árbol de decisión."
   ]
  },
  {
   "cell_type": "markdown",
   "metadata": {},
   "source": [
    "### <font color= darkblue> 6. Bagging Decision Tree (Ensemble Learning I)\n",
    "    \n",
    "Bagging (Bootstrap aggregating), es un método de ensamblado de machine learning (ensemble learning) diseñado para mejorar la estabilidad y precisión de algoritmos de machine learning usados en clasificación y regresión. Además, reduce la varianza y ayuda a evitar el overfitting.\n",
    "\n",
    "Cuando un árbol de decisión overfittea, aplicar un algoritmo de ensemble learning como bagging puede mejorar la calidad de predicción del modelo.\n",
    "\n",
    "En bagging, los datos de entrenamiento se van incrementando tomando muestras bootstrapeadas del train set. Esto significa tomar multiples muestras con reposición del train set y entrenar el modelo con estas submuestras. La predicción final es un promedio tomado sobre todas las predicciones resultante de los modelos entrenados con cada sub muestra bootstrapeada.\n",
    "    \n",
    "En rigor hay que tener un poco de cuidado con utilizar este tipo de modelos que involucran la técnica de bootstrap cuando tratamos con series temporales, ya que el remuestreo bootstrap clásico no refleja la dependencia temporal propia de estos tipos de datos. Sin embargo, quisimos mostrarlo para ilustrar un pasito más en los métodos de ensemble learning.\n",
    "    \n",
    "Trataremos este tema del bootstrap para series temporales más adelante."
   ]
  },
  {
   "cell_type": "code",
   "execution_count": 40,
   "metadata": {},
   "outputs": [
    {
     "name": "stdout",
     "output_type": "stream",
     "text": [
      "Runtime: 0.045929670333862305\n",
      "score on test: 1.000\n",
      "score on train: 1.000\n"
     ]
    }
   ],
   "source": [
    "# max_samples: maximum size 0.5=50% of each sample taken from the full dataset\n",
    "# max_features: maximum of features 1=100% taken here all 10K \n",
    "# n_estimators: number of decision trees \n",
    "bg=BaggingClassifier(DecisionTreeClassifier(),max_samples=0.5,max_features=1.0,n_estimators=10)\n",
    "\n",
    "start_bg = time.time()\n",
    "bg.fit(X_train, y_train)\n",
    "end_bg = time.time()\n",
    "bg_runtime=end_bg - start_bg\n",
    "\n",
    "print('Runtime:',bg_runtime)\n",
    "print(\"score on test: %.3f\" % bg.score(X_test, y_test))\n",
    "print(\"score on train: %.3f\" % bg.score(X_train, y_train))"
   ]
  },
  {
   "cell_type": "code",
   "execution_count": 41,
   "metadata": {},
   "outputs": [],
   "source": [
    "runtimes.append(bg_runtime)"
   ]
  },
  {
   "cell_type": "markdown",
   "metadata": {},
   "source": [
    "### <font color= darkblue> 7. Boosting Decision Tree (Ensemble Learning II)\n",
    "    \n",
    "En machine learning, boosting es otro método de ensemble learning cuyo principal objetivo es reducir el sesgo de varios modelos simples de forma de obtener un modelo más complejo y poderoso. \n",
    "\n",
    "\"¿Puede un conjunto de predictores débiles crear un predictor fuerte?\" [Kearns and Valiant (1988, 1989)] \n",
    "\n",
    "Un predictor débil es un clasificador que es sólo ligeramente mejor que tirar una moneda (random guessing). En contraste, un predictor fuerte es un clasificador que está arbitrariamente mejor correlacionado con la clasificación real.\n",
    "\n",
    "El algoritmo de boosting consiste en aprender iterativamente predictores débiles con respecto a una distribución y sumarlos en un clasificador final fuerte. Cuando estos algoritmos débiles son sumados, se pesan de forma que esté relacionada con su precisión. Luego de que un predictor débil es sumado, los pesos se actualizan para que datos mal clasificados tengan mucho peso y datos clasificados correctamente tengan poco peso. Así, los próximos predictores débiles se concentrarán en los ejemplos previamente mal clasificados.\n",
    "\n",
    "En general, no podemos usar Boosting para mejorar un modelo completamente overfitteado con precisión del 100\\%. Para apicar este método a nuestro árbol de decisión anterior, tenemos que torcerlo un poco."
   ]
  },
  {
   "cell_type": "code",
   "execution_count": 42,
   "metadata": {},
   "outputs": [
    {
     "name": "stdout",
     "output_type": "stream",
     "text": [
      "Runtime: 0.01323843002319336\n",
      "score on test: 1.000\n",
      "score on train: 1.000\n"
     ]
    }
   ],
   "source": [
    "adb = AdaBoostClassifier(DecisionTreeClassifier(min_samples_split=10,max_depth=4),n_estimators=10,learning_rate=0.6)\n",
    "\n",
    "start_adb = time.time()\n",
    "adb.fit(X_train, y_train)\n",
    "end_adb = time.time()\n",
    "adb_runtime=end_adb - start_adb\n",
    "\n",
    "print('Runtime:',adb_runtime)\n",
    "print(\"score on test: %.3f\" % adb.score(X_test, y_test))\n",
    "print(\"score on train: %.3f\" % adb.score(X_train, y_train))"
   ]
  },
  {
   "cell_type": "code",
   "execution_count": 43,
   "metadata": {},
   "outputs": [],
   "source": [
    "runtimes.append(adb_runtime)"
   ]
  },
  {
   "cell_type": "code",
   "execution_count": 44,
   "metadata": {},
   "outputs": [
    {
     "name": "stdout",
     "output_type": "stream",
     "text": [
      "Returns --> 1.000\n",
      "MVRV_FF --> 0.000\n",
      "MOM5D --> 0.000\n",
      "sma60 --> 0.000\n",
      "CRUDE --> 0.000\n"
     ]
    }
   ],
   "source": [
    "coef=list(adb.fit(X_train, y_train).feature_importances_)\n",
    "max_coef_index=list(np.argsort(coef)[::-1])\n",
    "for i in max_coef_index:\n",
    "    print(list(X_train.columns)[i]+' --> %.3f' %coef[i])"
   ]
  },
  {
   "cell_type": "markdown",
   "metadata": {},
   "source": [
    "### <font color= darkblue> 8. Random Forest (Ensemble Learning III)\n",
    "    \n",
    "Random forests o random decision forests es un método de ensamble learning utilizado tanto para regresión como para clasificación, que opera construyendo múltiples árboles de decisión en cada paso de entrenamiento. Para tareas de clasificación, la salida será la clase seleccionada por la mayoría de los árboles (regla de la mayoría).\n",
    "\n",
    "i.e. el clasificador Random Forest es básicamente un algoritmo de bagging aplicado a árboles de decisión que selecciona los subconjuntos de forma distinta a la clásica. Hemos notado que max\\_depth=9 es un buen valor para este dataset."
   ]
  },
  {
   "cell_type": "code",
   "execution_count": 45,
   "metadata": {
    "scrolled": true
   },
   "outputs": [
    {
     "name": "stdout",
     "output_type": "stream",
     "text": [
      "Runtime: 0.06818985939025879\n",
      "score on test: 1.000\n",
      "score on train: 1.000\n"
     ]
    }
   ],
   "source": [
    "# n_estimators = number of decision trees\n",
    "rf = RandomForestClassifier(n_estimators=30, max_depth=9)\n",
    "\n",
    "start_rf = time.time()\n",
    "rf.fit(X_train, y_train)\n",
    "end_rf = time.time()\n",
    "rf_runtime=end_rf - start_rf\n",
    "\n",
    "print('Runtime:',rf_runtime)\n",
    "print(\"score on test: %.3f\" % rf.score(X_test, y_test))\n",
    "print(\"score on train: %.3f\" % rf.score(X_train, y_train))"
   ]
  },
  {
   "cell_type": "code",
   "execution_count": 46,
   "metadata": {},
   "outputs": [],
   "source": [
    "runtimes.append(rf_runtime)"
   ]
  },
  {
   "cell_type": "code",
   "execution_count": 47,
   "metadata": {},
   "outputs": [
    {
     "name": "stdout",
     "output_type": "stream",
     "text": [
      "Returns --> 0.915\n",
      "MOM5D --> 0.049\n",
      "MVRV_FF --> 0.016\n",
      "sma60 --> 0.011\n",
      "CRUDE --> 0.009\n"
     ]
    }
   ],
   "source": [
    "coef=list(rf.fit(X_train, y_train).feature_importances_)\n",
    "max_coef_index=list(np.argsort(coef)[::-1])\n",
    "for i in max_coef_index:\n",
    "    print(list(X_train.columns)[i]+' --> %.3f' %coef[i])"
   ]
  },
  {
   "cell_type": "markdown",
   "metadata": {},
   "source": [
    "### <font color= darkblue> 9. Voting Classifier (Ensemble Learning IV)\n",
    "    \n",
    "Este clasificador de nuestra caja de ensemble learnings evalúa distintos clasificadores y toma la mejor decisión a partir de la regla de la mayoría.\n",
    "\n",
    "La idea detrás del VotingClassifier es combinar clasificadores de machine learning conceptualmente distintos y usar la regla de la mayoría o el promedio de las probabilidades predichas, para predecir la nueva clase. Este clasificador es útil si se utiliza con un conjunto de modelos con buena performance dado que equilibra y supera las debilidades individuales.\n",
    "\n",
    "Usaremos este método para combinar los siguientes modelos anteriores:\n",
    "\n",
    "\\begin{itemize}\n",
    "\\item Naive Bayes (84\\%, 2s);\n",
    "\\item Logistic Regression (86\\%, 60s, overfitting);\n",
    "\\item Random Forest (80\\%, 20s);\n",
    "\\item Support Vector Machine (85\\%, 10s).\n",
    "\\end{itemize}"
   ]
  },
  {
   "cell_type": "code",
   "execution_count": 48,
   "metadata": {},
   "outputs": [
    {
     "name": "stdout",
     "output_type": "stream",
     "text": [
      "Runtime: 0.08312439918518066\n",
      "score on test: 0.98\n",
      "score on train: 0.995702005730659\n"
     ]
    }
   ],
   "source": [
    "# 1) naive bias = mnb\n",
    "# 2) logistic regression =lr\n",
    "# 3) random forest =rf\n",
    "# 4) support vector machine = svm\n",
    "evc=VotingClassifier(estimators=[('mnb',mnb),('lr',lr),('rf',rf),('svm',svm)],voting='hard')\n",
    "\n",
    "start_evc = time.time()\n",
    "evc.fit(X_train, y_train)\n",
    "end_evc = time.time()\n",
    "evc_runtime=end_evc - start_evc\n",
    "\n",
    "print('Runtime:',evc_runtime)\n",
    "print(\"score on test: \" + str(evc.score(X_test, y_test)))\n",
    "print(\"score on train: \"+ str(evc.score(X_train, y_train)))"
   ]
  },
  {
   "cell_type": "code",
   "execution_count": 49,
   "metadata": {},
   "outputs": [],
   "source": [
    "runtimes.append(evc_runtime)"
   ]
  },
  {
   "cell_type": "markdown",
   "metadata": {},
   "source": [
    "### <font color= darkblue> 10. PPR\n",
    "    \n",
    "Projection pursuit regression (PPR) es un modelo estadístico desarrollado por Jerome H. Friedman y Werner Stuetzle que es una extensión de los modelos aditivos. El modelo adapta los modelos aditivos de forma que primero proyecta los datos en la dirección óptima (de mayor variabilidad) antes de aplicar funciones suaves a las variables expicativas.\n",
    "\n",
    "Es decir, el modelo consiste de combinaciones lineales de funciones ridge (funciones no lineales que sólo varían en una dirección).\n",
    "\n",
    "Dado un conjunto de datos $\\{(y_{i},x_{i})\\}_{i=1}^{n}\\}$, el objetivo es minimizar la función de error\n",
    "\n",
    "$$\\min_{f_{j},\\beta_{j}}S=\\sum_{i=1}^{n}\\left[y_{i}-\\sum_{j=1}^{r}f_{j}(\\beta_{j}^{\\mathrm{T}}x_{i})\\right]^{2},$$\n",
    "\n",
    "sobre las funciones $f_{j}$ y los vectores $\\beta_{j}$. \n",
    "\n",
    "Pares fiteados previamente pueden ser reajustados luego de que nuevos pares sean determinados por medio de un algoritmo conocido como backfitting, que implica tomar pares previos, recalcular el residuo dado por los demás pares calculados, reajustar para tener en cuenta esa nueva información y luego recorrer todos los pares de ajuste de esta manera hasta que los parámetros converjan.\n",
    "\n",
    "El modelo PPR es un aproximador universal, dado que puede aproximar cualquier función continua en $\\mathbb{R}^p$.\n",
    "    \n",
    "La librería skpp de Python y creada por pavelkomarov (ver bibliografía), ofrece no sólo el PPR sino el Projection Pursuit Classifier cuya definición termina invocando al PPR pero para una modificación del problema original."
   ]
  },
  {
   "cell_type": "code",
   "execution_count": 50,
   "metadata": {},
   "outputs": [
    {
     "name": "stdout",
     "output_type": "stream",
     "text": [
      "Runtime: 3.2667059898376465\n"
     ]
    }
   ],
   "source": [
    "# r: The number of terms in the underlying additive model. The input will be put through r projections, r functions of those projections, and then multiplication by r output vectors to determine output.\n",
    "#ppr = ProjectionPursuitRegressor(r=10)\n",
    "ppr = ProjectionPursuitClassifier(r=10)\n",
    "\n",
    "start_ppr = time.time()\n",
    "ppr.fit(X_train, y_train)\n",
    "end_ppr = time.time()\n",
    "ppr_runtime=end_ppr - start_ppr\n",
    "\n",
    "print('Runtime:',ppr_runtime)\n",
    "ppr_prediction=ppr.predict(X_test)"
   ]
  },
  {
   "cell_type": "code",
   "execution_count": 51,
   "metadata": {},
   "outputs": [],
   "source": [
    "runtimes.append(ppr_runtime)"
   ]
  },
  {
   "cell_type": "code",
   "execution_count": 52,
   "metadata": {},
   "outputs": [
    {
     "name": "stdout",
     "output_type": "stream",
     "text": [
      "MLP: [accuracy, crossentropy loss] = [0.6833333333333333, 10.937417788609617]\n"
     ]
    }
   ],
   "source": [
    "ppr_accuracy=sklearn.metrics.accuracy_score(y_test,ppr_prediction)\n",
    "ppr_cross_entropy_loss=sklearn.metrics.log_loss(y_test, ppr_prediction)\n",
    "#ppr_zero_one_loss=sklearn.metrics.zero_one_loss(y_test,ppr_prediction)\n",
    "print('MLP: [accuracy, crossentropy loss] =', [ppr_accuracy,ppr_cross_entropy_loss])"
   ]
  },
  {
   "cell_type": "markdown",
   "metadata": {},
   "source": [
    "### <font color= darkblue> 11. Redes neuronales y Deep Learning\n",
    "    \n",
    "Se asume que el lector está al tanto de las nociones básicas sobre ANNs y sólo mencionaremos que deep learning se trata de redes neuronales que tienen al menos dos capas ocultas que se utilizan para extraer progresivamente características de nivel superior de los datos de entrenamiento.\n",
    "\n",
    "Usaremos dos tipos de redes: MLP (multi-layer perceptron) y LSTM.\n",
    "    \n",
    "A la hora de construir ambas redes utilizaremos los siguientes hiperparametros:\n",
    "\n",
    "\\begin{itemize}\n",
    "    \\item optimizer=’adam’; \n",
    "    \\item metrics=’binary accuracy’; \n",
    "    \\item loss=’binary crossentropy’; \n",
    "    \\item activation=’relu’ para la primera capa densa (para el caso LSTM) y activation=’sigmoid’ para la segunda, dado que es un problema de clasificación binaria.\n",
    "\\end{itemize}\n",
    "    \n",
    "Para el entrenamiento hemos utilizado\n",
    "\\begin{itemize}\n",
    "    \\item Para MLP\n",
    "        \\begin{itemize} \n",
    "            \\item batch\\_size=1 (stochastic gradient descent);\n",
    "            \\item epochs=100;\n",
    "            \\item validation\\_split=0.33 que además nos sirve para mostrar como mejora la red a medida que aumentan las epochs;\n",
    "        \\end{itemize}\n",
    "    \\item Para LSTM: \n",
    "        \\begin{itemize}\n",
    "            \\item batch\\_size=len(X\\_train\\_LSTM)\n",
    "            \\item epochs=200;\n",
    "            \\item validation\\_split=0.33.\n",
    "        \\end{itemize}\n",
    "\\end{itemize}"
   ]
  },
  {
   "cell_type": "markdown",
   "metadata": {},
   "source": [
    "A la hora de construir redes neuronales, debemos ser cuidadosos de no utilizar demasiadas capas y neuronas, específicamente si el conjunto de datos no es particularmente grande. Muchos parámetros van a mejorar inevitablemente la perfomance in-sample (en el train set) pero también van a provocar el riesgo de overfitting. Adicionalmente, el proceso de entrenamiento requerirá mucha mas potencia computacional por lo que aumenta el riesgo de no convergencia.\n",
    "\n",
    "Otro razón importante para evitar el uso de redes demasiado complejas, y para utilizar métodos que reduzcan el overfitting como dropout, es el hecho de que estamos entrenando con series temporales financieras que suelen tener datos ruidosos (es decir, patrones que no son esenciales sino meramente concomitantes)."
   ]
  },
  {
   "cell_type": "markdown",
   "metadata": {},
   "source": [
    "### <font color= darkblue> Multilayer Perceptron (MLP)\n",
    "    \n",
    "MLP consiste de al menos tres capas de nodos: una capa de entrada, una capa oculta y una capa de salida. A excepción de los nodos de entrada, cada nodo es una neurona que utiliza funciones de activación no lineales. \n",
    "    \n",
    "MLP utiliza una técnica de aprendizaje supervisada llamada backpropagation para su entrenamiento. Estas capas múltiples y las funciones de activación no lineales son las características que distinguen MLP del perceptrón clásico. Además, MLP puede distinguir datos que no son linealmente separables.\n",
    "\n",
    "Definimos una función para construir el modelo con un número específico de capas, cada una con una cantidad predefiida de neuronas. Esta función es útil en tanto que permite cambiar fácilmente hiperparámetros de la red (como el optimizador, función de activación, etc) sin tener que reescribir todo el código. La función devuelve el modelo compilado."
   ]
  },
  {
   "cell_type": "code",
   "execution_count": 53,
   "metadata": {},
   "outputs": [],
   "source": [
    "# MLP: mirar https://machinelearningmastery.com/binary-classification-tutorial-with-the-keras-deep-learning-library/ + https://scikit-learn.org/stable/modules/neural_networks_supervised.html\n",
    "# define model\n",
    "\n",
    "def model_MLP(optimizer,activation,loss,metrics):\n",
    "  model = Sequential()\n",
    "\n",
    "  model.add(Dense(64,  activation = activation))\n",
    "  \n",
    "  model.add(Dense(1, activation='sigmoid'))\n",
    "  \n",
    "  model.compile(optimizer=optimizer, loss=loss, metrics=metrics)\n",
    "\n",
    "  return model\n",
    "\n",
    "MLP=model_MLP(optimizer='adam',activation='relu',loss='binary_crossentropy',metrics=['binary_accuracy'])  "
   ]
  },
  {
   "cell_type": "markdown",
   "metadata": {},
   "source": [
    "####  <font color= darkblue> Fitteado del modelo\n",
    "\n",
    "El método de Descenso de gradiente estocástico (SGD) ha sido mejorado por varias técnicas de estimación de momento adaptativo (ADAM) que se basan en AdaGrad y RMSProp y otros. En la bibliografía mencionamos el artículo *Practical Advice for Building Deep Neural Networks* de Matt H y Daniel R que explica por qué es preferible escoger el optimizador ADAM, la función de activación ReLU e inicializaciones escaladas por varianza.\n",
    " \n",
    "De hecho, mientras el SGD es usado en muchos problemas de redes neuronales, tiene el problema de converger a mínimos locales. Algunos otros optimizadores son variaciones de algoritmos de aprendizaje adaptativos como Adam, Adagrad y RMSProp. Adam resulta ser el que ofrece el mejor resultado."
   ]
  },
  {
   "cell_type": "code",
   "execution_count": 54,
   "metadata": {},
   "outputs": [
    {
     "name": "stdout",
     "output_type": "stream",
     "text": [
      "Runtime: 47.82241415977478\n"
     ]
    }
   ],
   "source": [
    "start_MLP = time.time()\n",
    "history_MLP=MLP.fit(X_train, y_train, batch_size=1, epochs=100, verbose=0, validation_split=0.33, shuffle=False)\n",
    "end_MLP = time.time()\n",
    "MLP_runtime=end_MLP - start_MLP\n",
    "\n",
    "print('Runtime:',MLP_runtime)"
   ]
  },
  {
   "cell_type": "code",
   "execution_count": 55,
   "metadata": {},
   "outputs": [],
   "source": [
    "runtimes.append(MLP_runtime)"
   ]
  },
  {
   "cell_type": "code",
   "execution_count": 56,
   "metadata": {},
   "outputs": [
    {
     "name": "stdout",
     "output_type": "stream",
     "text": [
      "Model: \"sequential\"\n",
      "_________________________________________________________________\n",
      "Layer (type)                 Output Shape              Param #   \n",
      "=================================================================\n",
      "dense (Dense)                (1, 64)                   384       \n",
      "_________________________________________________________________\n",
      "dense_1 (Dense)              (1, 1)                    65        \n",
      "=================================================================\n",
      "Total params: 449\n",
      "Trainable params: 449\n",
      "Non-trainable params: 0\n",
      "_________________________________________________________________\n",
      "None\n"
     ]
    }
   ],
   "source": [
    "print(MLP.summary())"
   ]
  },
  {
   "cell_type": "markdown",
   "metadata": {},
   "source": [
    "#### <font color= darkblue> Visualización de precisión y pérdida en los conjuntos de entrenamiento y validación"
   ]
  },
  {
   "cell_type": "code",
   "execution_count": 57,
   "metadata": {},
   "outputs": [
    {
     "data": {
      "image/png": "[encoded data removed]",
      "text/plain": [
       "<Figure size 1440x720 with 2 Axes>"
      ]
     },
     "metadata": {},
     "output_type": "display_data"
    }
   ],
   "source": [
    "# MLP\n",
    "fig, axs = plt.subplots(1,2)\n",
    "fig.suptitle('MLP model training performance', fontsize=20)\n",
    "axs[0].plot(history_MLP.history['binary_accuracy'])\n",
    "axs[0].plot(history_MLP.history['val_binary_accuracy'])\n",
    "axs[0].set_title('Model accuracy', fontsize=15)\n",
    "axs[0].set_ylabel('binary_accuracy')\n",
    "axs[0].set_xlabel('epoch')\n",
    "axs[0].legend(['train', 'validation'], loc='upper left')\n",
    "axs[1].plot(history_MLP.history['loss'])\n",
    "axs[1].plot(history_MLP.history['val_loss'])\n",
    "axs[1].set_title('Model loss', fontsize=15)\n",
    "axs[1].set_ylabel('loss')\n",
    "axs[1].set_xlabel('epoch')\n",
    "axs[1].legend(['train', 'validation'], loc='upper left')\n",
    "plt.show()"
   ]
  },
  {
   "cell_type": "markdown",
   "metadata": {},
   "source": [
    "### <font color= darkblue> LSTM"
   ]
  },
  {
   "cell_type": "markdown",
   "metadata": {},
   "source": [
    "La red Long Short-Term Memory (LSTM), es una red neuronal recurrente que es entrenada usando backpropagation a través del tiempo (Backpropagation Through Time) y que supera el problema de vanishing/exploding gradient problem.\n",
    "\n",
    "Su arquitectura vuelve a estar redes ideales para tratar datos sequenciales tales como series temporales.\n",
    "\n",
    "En lugar de capas ocultas, las redes LSTM tienen bloques de memoria. Un tal bloque tiene componentes que las vuelve mas inteligentes que las capas ocultas clásicas y las provee de una noción de memoria a corto y largo plazo. Estos bloques de memoria están formados por compuertas lógicas que manejan el estado del bloque y su salida. Un bloque opera sobre una secuencia de entrada y cada compuerta usa funciones de activación sigmoideas para controlar si se activan o no, provocando los cambios de estado y agregando información nueva.\n",
    "\n",
    "Los bloques están conformados por tres tipos de compuertas lógicas:\n",
    "\n",
    "\\begin{itemize}\n",
    "\\item Forget Gate: decide qué información eliminar del bloque;\n",
    "\\item Input Gate: decide qué valores de pesos de la entrada actualizar en el estado de memoria;\n",
    "\\item Output Gate: decide qué devolver a la salida basado en la entrada y en el estado de memoria del bloque.\n",
    "\\end{itemize}\n",
    "\n",
    "Cada unidad de memoria es como una pequeña máquina de estado donde las compuertas tienen pesos que son aprendidos durante el entrenamiento."
   ]
  },
  {
   "cell_type": "code",
   "execution_count": 58,
   "metadata": {
    "scrolled": true
   },
   "outputs": [
    {
     "data": {
      "image/png": "[encoded data removed]",
      "text/plain": [
       "<IPython.core.display.Image object>"
      ]
     },
     "execution_count": 58,
     "metadata": {},
     "output_type": "execute_result"
    }
   ],
   "source": [
    "from IPython.display import Image\n",
    "Image(\"img/LSTM.png\")"
   ]
  },
  {
   "cell_type": "markdown",
   "metadata": {},
   "source": [
    "#### <font color= darkblue> Definimos el modelo\n",
    "    \n",
    "Primero, definimos la red LSTM inicializando el modelo Sequential de Keras. Luego añadiremos dos capas LSTM y ajustaremos el dropout para mejorar el rendimiento del modelo. Finalmente, agregaremos dos capas densas para la salida.\n",
    "\n",
    "Notar que otros hiperparámetros a modificar para mejorar el rendimiento son la cantidad de épocas (epochs) y el batch size. Hemos notado que un batch\\_size=len(X\\_train\\_LSTM) y epochs=200 devuelven un buen modelo.\n",
    "\n",
    "A continuación, compilaremos el modelo definido."
   ]
  },
  {
   "cell_type": "markdown",
   "metadata": {},
   "source": [
    "#### <font color= darkblue> Construcción del modelo LSTM\n",
    "    \n",
    "Como en el modelo anterior, definimos una función para construir el modelo basado en la red LSTM. En este caso agregamos un porcentaje de dropout (drop\\_pct) que es un método de regularización que agrega información para resolver problemas mal condicionados o para reducir el overfitting."
   ]
  },
  {
   "cell_type": "code",
   "execution_count": 59,
   "metadata": {},
   "outputs": [],
   "source": [
    "def model_LSTM_(optimizer,activation,loss,metrics):\n",
    "  model = Sequential()\n",
    "\n",
    "  model.add(LSTM(units=256, input_shape = (X_train_LSTM.shape[1],X_train_LSTM.shape[2]), return_sequences=True)) \n",
    "  model.add(Dropout(0.4, seed=seed_value))\n",
    "\n",
    "  model.add(LSTM(units=256, return_sequences=True))\n",
    "  model.add(Dropout(0.4, seed=seed_value))\n",
    "\n",
    "  model.add(LSTM(units=64, return_sequences=False))\n",
    "  model.add(Dropout(0.4, seed=seed_value))\n",
    "\n",
    "  model.add(Dense(64,  activation = activation))\n",
    "  \n",
    "  model.add(Dense(1, activation='sigmoid'))\n",
    "  \n",
    "  model.compile(optimizer=optimizer, loss=loss, metrics=metrics)\n",
    "\n",
    "  return model\n",
    "\n",
    "# Define the Model\n",
    "model_LSTM=model_LSTM_(optimizer='adam',activation='relu',loss='binary_crossentropy',metrics=['binary_accuracy'])"
   ]
  },
  {
   "cell_type": "code",
   "execution_count": null,
   "metadata": {},
   "outputs": [],
   "source": [
    "start_LSTM = time.time()\n",
    "history_LSTM=model_LSTM.fit(X_train_LSTM, y_train, batch_size=len(X_train_LSTM), epochs=200, verbose=0, validation_split=0.33, shuffle=False)\n",
    "end_LSTM = time.time()\n",
    "LSTM_runtime=end_LSTM - start_LSTM\n",
    "\n",
    "print('Runtime:',LSTM_runtime)"
   ]
  },
  {
   "cell_type": "code",
   "execution_count": null,
   "metadata": {},
   "outputs": [],
   "source": [
    "runtimes.append(LSTM_runtime)"
   ]
  },
  {
   "cell_type": "code",
   "execution_count": null,
   "metadata": {},
   "outputs": [],
   "source": [
    "print(model_LSTM.summary())"
   ]
  },
  {
   "cell_type": "markdown",
   "metadata": {},
   "source": [
    "#### <font color= darkblue> Visualización de precisión y pérdida en los conjuntos de entrenamiento y validación"
   ]
  },
  {
   "cell_type": "code",
   "execution_count": null,
   "metadata": {},
   "outputs": [],
   "source": [
    "# LSTM\n",
    "fig, axs = plt.subplots(1,2)\n",
    "fig.suptitle('LSTM model training performance', fontsize=20)\n",
    "axs[0].plot(history_LSTM.history['binary_accuracy'])\n",
    "axs[0].plot(history_LSTM.history['val_binary_accuracy'])\n",
    "axs[0].set_title('Model accuracy', fontsize=15)\n",
    "axs[0].set_ylabel('binary_accuracy')\n",
    "axs[0].set_xlabel('epoch')\n",
    "axs[0].legend(['train', 'validation'], loc='upper left')\n",
    "axs[1].plot(history_LSTM.history['loss'])\n",
    "axs[1].plot(history_LSTM.history['val_loss'])\n",
    "axs[1].set_title('Model loss', fontsize=15)\n",
    "axs[1].set_ylabel('loss')\n",
    "axs[1].set_xlabel('epoch')\n",
    "axs[1].legend(['train', 'validation'], loc='upper left')\n",
    "plt.show()"
   ]
  },
  {
   "cell_type": "markdown",
   "metadata": {},
   "source": [
    "### <font color= darkblue> Predicción\n",
    "Ahora que tenemos ambas redes entrenadas, necesitamos testearlas en el test set. \n",
    "    \n",
    "Como medidas del desempeño de ambas redes utilizaremos la binary_accuracy (cantidad de predicciones correctas dividido cantidad total de datos en la variable respuesta) y la binary_crossentropy (es el promedio de la pérdida de entropía cruzada categórica en muchas tareas de dos categorías)."
   ]
  },
  {
   "cell_type": "code",
   "execution_count": null,
   "metadata": {},
   "outputs": [],
   "source": [
    "# MLP\n",
    "y_pred_MLP=MLP.predict(X_test, batch_size=1)\n",
    "# LSTM\n",
    "y_pred_LSTM=model_LSTM.predict(X_test_LSTM, batch_size=1)"
   ]
  },
  {
   "cell_type": "markdown",
   "metadata": {},
   "source": [
    "#### <font color= darkblue> Métricas de desempeño en el test set"
   ]
  },
  {
   "cell_type": "code",
   "execution_count": null,
   "metadata": {},
   "outputs": [],
   "source": [
    "# MLP\n",
    "results_MLP=MLP.evaluate(X_test, y_test)\n",
    "print('MLP: [binary_crossentropy, binary_accuracy] =', results_MLP)"
   ]
  },
  {
   "cell_type": "code",
   "execution_count": null,
   "metadata": {},
   "outputs": [],
   "source": [
    "# LSTM\n",
    "results_LSTM=model_LSTM.evaluate(X_test_LSTM, y_test)\n",
    "print('LSTM: [binary_crossentropy, binary_accuracy] =', results_LSTM)"
   ]
  },
  {
   "cell_type": "markdown",
   "metadata": {},
   "source": [
    "Se ve que la red LSTM es muy superior a la MLP, y en general está entre los mejores modelos considerados."
   ]
  },
  {
   "cell_type": "markdown",
   "metadata": {},
   "source": [
    "### <font color= darkblue> 12. Model Averaging Ensemble"
   ]
  },
  {
   "cell_type": "markdown",
   "metadata": {},
   "source": [
    "Para terminar con los modelos, mostramos un último aspecto.\n",
    "\n",
    "Hemos visto que muchos de los modelos que probamos estaban overfitteados. Esto es un problema habitual en las series temporales y se suele dar por la correlación que existe entre el train set y el test set, debido a la dependencia temporal inherente en la serie. \n",
    "\n",
    "Para mejorar esta situación realizaremos un averaging ensemble combinando dos técnicas de remuestreo: block bootstraping y Time Series cross-validation."
   ]
  },
  {
   "cell_type": "markdown",
   "metadata": {},
   "source": [
    "#### <font color= darkblue> Block Bootstrap\n",
    "\n",
    "La idea básica detrás del bootstrap es estimar las cantidades o características que nos interesan haciendo un resampleo con reposición de la muestra original. Cuando lidiamos con datos correlacionados en el tiempo, el simple resampleo no es adecuado debido a que de esta forma no podremos replicar la estructura de dependencia temporal inherente en los datos. Por esta razón, se han desarrollado otras técnicas de bootstrap para time series. Una de las técnicas mas comunes es la conocida como block bootstrap.\n",
    "\n",
    "El block bootstrap intenta crear nuevas series temporales, con la misma dependencia que los datos original, utilizando la idea de resampleo de antes pero ya no tomando de a un dato por iteración sino separando los datos en bloques y tomando de a un bloque por iteración, con reposición. De esta manera, al tomar bloques en lugar de datos aislados, conservamos la dependencia temporal inherente."
   ]
  },
  {
   "cell_type": "code",
   "execution_count": null,
   "metadata": {},
   "outputs": [],
   "source": [
    "len(X_train)"
   ]
  },
  {
   "cell_type": "code",
   "execution_count": null,
   "metadata": {},
   "outputs": [],
   "source": [
    "# creo muestras block bootstraps con bloques de longitud n=100\n",
    "bs = StationaryBootstrap(100, X_train, y=y_train)\n",
    "scores=[]\n",
    "X_train_bs=[X_train]\n",
    "y_train_bs=[y_train]\n",
    "for data in bs.bootstrap(50):\n",
    "    bs_X = data[0][0]\n",
    "    bs_y = data[1]['y']\n",
    "    # para cada muestra creada hago el split train/test\n",
    "    #bs_X_train, bs_X_val, bs_y_train, bs_y_val = train_test_split(bs_X, bs_y, test_size=0.33, shuffle=False)\n",
    "    X_train_bs.append(bs_X)\n",
    "    #X_val.append(bs_X_val)\n",
    "    y_train_bs.append(bs_y)\n",
    "    #y_val.append(bs_y_val)\n",
    "    # POR QUÉ NO APPENDEA EL VALIDATION SET?\n",
    "X_train_bs = np.concatenate(X_train_bs);# X_val = np.concatenate(X_val)\n",
    "y_train_bs = np.concatenate(y_train_bs);# y_val = np.concatenate(y_val)\n",
    "X_train_bs=pd.DataFrame(X_train_bs,columns=X.columns)\n",
    "y_train_bs=pd.DataFrame(y_train_bs,columns=['Sign'])"
   ]
  },
  {
   "cell_type": "code",
   "execution_count": null,
   "metadata": {},
   "outputs": [],
   "source": [
    "len(X_train_bs)"
   ]
  },
  {
   "cell_type": "code",
   "execution_count": null,
   "metadata": {},
   "outputs": [],
   "source": [
    "X_train_bs.head(),y_train_bs.head()"
   ]
  },
  {
   "cell_type": "markdown",
   "metadata": {},
   "source": [
    "#### <font color= darkblue> Time Series cross-validation\n",
    "A continuación, realizaremos un Time Series cross-validation sobre el nuevo conjunto (mucho mas grande) de muestras bootstrap que generamos.\n",
    "\n",
    "Esta técnica es una variación de KFold y provee indices para hacer el split train/test de la serie temporal observada en un intervalo de tiempo fijo. En el k-ésimo split, tendremos k folds como train set y el (k+1)-ésimo fold será el test set."
   ]
  },
  {
   "cell_type": "markdown",
   "metadata": {},
   "source": [
    "En primer lugar, definiremos una función cross_model() para crear y fitear una lista de modelos en las muestras del crossvalidation."
   ]
  },
  {
   "cell_type": "code",
   "execution_count": null,
   "metadata": {},
   "outputs": [],
   "source": [
    "# Realizamos un cross validation sobre un modelo fijo\n",
    "def cross_model(model,X,Y):\n",
    "    tscv = TimeSeriesSplit()\n",
    "    models=[]\n",
    "    for train_index, test_index in tscv.split(X):\n",
    "#         print(\"TRAIN:\", train_index, \"TEST:\", test_index)\n",
    "        X__train, X__test = X.iloc[train_index], X.iloc[test_index]\n",
    "        y__train, y__test = Y.iloc[train_index], Y.iloc[test_index]\n",
    "        # if needed, do preprocessing here\n",
    "\n",
    "        model.fit(X__train,y__train)\n",
    "        \n",
    "        models.append(model)\n",
    "    return models\n",
    "def cross_scores(model,X,Y):\n",
    "    tscv = TimeSeriesSplit()\n",
    "    scores=[]\n",
    "    for train_index, test_index in tscv.split(X):\n",
    "#         print(\"TRAIN:\", train_index, \"TEST:\", test_index)\n",
    "        X__train, X__test = X.iloc[train_index], X.iloc[test_index]\n",
    "        y__train, y__test = Y.iloc[train_index], Y.iloc[test_index]\n",
    "        # if needed, do preprocessing here\n",
    "\n",
    "        model.fit(X__train,y__train)\n",
    "\n",
    "        preds = model.predict(X__test)\n",
    "\n",
    "        # accuracy for the current fold only    \n",
    "        r2score = model.score(X__test,y__test)\n",
    "\n",
    "        scores.append(r2score)\n",
    "        \n",
    "    # this is the average accuracy over all folds\n",
    "    average_r2score = np.mean(scores)\n",
    "    return average_r2score"
   ]
  },
  {
   "cell_type": "markdown",
   "metadata": {},
   "source": [
    "#### <font color= darkblue> Averaging Ensemble\n",
    "\n",
    "A continuación, definimos la función ensemble_predictions() que toma una lista de modelos y un conjunto de datos, y devuelve la variable respuesta predicha por el ensamblador.\n",
    "\n",
    "Uno puede ensamblar las predicciones (binarias) de múltiples modelos tomando la media del vector de predicciones de los modelos y luego, si es necesario, convirtiendo el vector resultante para que tenga valores en $\\{0,1\\}$ (por ejemplo usando LabelEncoder)."
   ]
  },
  {
   "cell_type": "code",
   "execution_count": null,
   "metadata": {},
   "outputs": [],
   "source": [
    "# make an ensemble prediction for multi-class classification\n",
    "def ensemble_predictions(models, X):\n",
    "    # make predictions\n",
    "    yhats = [model.predict(X) for model in models]\n",
    "    yhats = np.array(yhats)\n",
    "    # mean across ensemble members\n",
    "    mean = np.mean(yhats, axis=0)\n",
    "    encoder = LabelEncoder() \n",
    "    return encoder.fit_transform(mean)"
   ]
  },
  {
   "cell_type": "markdown",
   "metadata": {},
   "source": [
    "Veamos esta técnica de ensemble por ejemplos para el modelo de Naive Bayes."
   ]
  },
  {
   "cell_type": "code",
   "execution_count": null,
   "metadata": {},
   "outputs": [],
   "source": [
    "modelos=[mnb,lr,knn,svm,clf,bg,adb,rf,ppr,MLP,LSTM]\n",
    "modelos_nom=['mnb','lr','knn','svm','clf','bg','adb','rf','ppr','MLP','LSTM']"
   ]
  },
  {
   "cell_type": "code",
   "execution_count": null,
   "metadata": {},
   "outputs": [],
   "source": [
    "modelos"
   ]
  },
  {
   "cell_type": "code",
   "execution_count": null,
   "metadata": {},
   "outputs": [],
   "source": [
    "model=modelos[0] # We choose MultinomialNB()\n",
    "# cross sample + ensemble\n",
    "models=cross_model(model,X_train,y_train) \n",
    "preds = ensemble_predictions(models,X_test)\n",
    "print('score con muestra cross+ensemble: %.3f' % accuracy_score(y_test,preds))\n",
    "# bootstraped sample\n",
    "model.fit(X_train_bs,y_train_bs)\n",
    "print('score con muestra bts: %.3f' % accuracy_score(y_test,model.predict(X_test)))#cross_scores(model,X_test,y_test))#\n",
    "# original sample\n",
    "model.fit(X_train,y_train)\n",
    "print('score con muestra original: %.3f' % accuracy_score(y_test,model.predict(X_test)))"
   ]
  },
  {
   "cell_type": "markdown",
   "metadata": {},
   "source": [
    "No se ve una gran mejoría respecto de la muestra original."
   ]
  },
  {
   "cell_type": "markdown",
   "metadata": {},
   "source": [
    "#### <font color= darkblue> Prediction Scores\n",
    "Podemos estimar el desempeño del ensemble de un cierto tamaño $n$ fijo, seleccionando el número requerido de modelos de la lista de todos los modelos, llamando a la función ensemble_predictions() para hacer la predicción y luego calculando la precisión de la predicción comparada con los valores reales. La función evaluate_n_members() implementa esta idea."
   ]
  },
  {
   "cell_type": "code",
   "execution_count": null,
   "metadata": {},
   "outputs": [],
   "source": [
    "# evaluate a specific number of members in an ensemble\n",
    "def evaluate_n_members(models, n_members, X, y):\n",
    "    # select a subset of members\n",
    "    subset = models[:n_members]\n",
    "    # make prediction\n",
    "    yhat = ensemble_predictions(subset, X)\n",
    "    # calculate accuracy\n",
    "    return accuracy_score(y, yhat)"
   ]
  },
  {
   "cell_type": "markdown",
   "metadata": {},
   "source": [
    "A continuación, guardamos la puntuación del ensemble de cada tamaño para un gráfico posterior, y el puntaje de cada modelo individual y la performance promedio obtenido."
   ]
  },
  {
   "cell_type": "code",
   "execution_count": null,
   "metadata": {},
   "outputs": [],
   "source": [
    "# evaluate different numbers of ensembles on hold out set\n",
    "single_scores, ensemble_scores = list(), list()\n",
    "for i in range(1, len(models)+1):\n",
    "    # evaluate model with i members\n",
    "    ensemble_score = evaluate_n_members(models, i, X_test, y_test)\n",
    "    # evaluate the i'th model standalone\n",
    "    single_score = models[i-1].score(X_test, y_test)\n",
    "    # summarize this step\n",
    "    print('> %d: single=%.3f, ensemble=%.3f' % (i, single_score, ensemble_score))\n",
    "    ensemble_scores.append(ensemble_score)\n",
    "    single_scores.append(single_score)\n",
    "# summarize average accuracy of a single final model\n",
    "print('Accuracy %.3f (%.3f)' % (np.mean(single_scores), np.std(single_scores)))"
   ]
  },
  {
   "cell_type": "markdown",
   "metadata": {},
   "source": [
    "No se observa ninguna mejoría utilizando el método ensemble."
   ]
  },
  {
   "cell_type": "markdown",
   "metadata": {},
   "source": [
    "\\clearpage"
   ]
  },
  {
   "cell_type": "markdown",
   "metadata": {},
   "source": [
    "# <font color= darkblue> Comparación de modelos"
   ]
  },
  {
   "cell_type": "markdown",
   "metadata": {},
   "source": [
    "Comparemos los modelos según su puntaje de predicción, ''score'', y según sus curvas ROC."
   ]
  },
  {
   "cell_type": "markdown",
   "metadata": {},
   "source": [
    "### <font color= darkblue> Score\n",
    "    \n",
    "Enlistemos el desempeño de los modelos."
   ]
  },
  {
   "cell_type": "code",
   "execution_count": null,
   "metadata": {},
   "outputs": [],
   "source": [
    "scores=[]\n",
    "for i in range(0,len(modelos_nom)-2):\n",
    "    aux=modelos[i].score(X_test,y_test)\n",
    "    scores.append(aux)\n",
    "    print('El modelo '+modelos_nom[i]+' tiene un score de: %.3f' % aux)\n",
    "scores.append(results_MLP[1])\n",
    "print('El modelo '+modelos_nom[9]+' tiene un score de: %.3f' % results_MLP[1])\n",
    "scores.append(results_LSTM[1])\n",
    "print('El modelo '+modelos_nom[10]+' tiene un score de: %.3f' % results_LSTM[1])"
   ]
  },
  {
   "cell_type": "markdown",
   "metadata": {},
   "source": [
    "### <font color= darkblue> Curvas ROC\n",
    "    \n",
    "Una curva característica de funcionamiento del receptor (curva ROC) es un diagrama gráfico que ilustra la capacidad de diagnóstico de un sistema clasificador binario a medida que varía su umbral de discriminación.\n",
    "\n",
    "La curva ROC es creada graficando el ratio true positive (TPR) contra el ratio false positive (FPR) en varios umbrales de ajuste. En machine learning el TPR es también conocido como sensitividad, recall o probabilidada de detección. El FPR es conocido como la probabilidad de una falsa alarma y es calculado como (1 - especificidad).\n",
    "\n",
    "Esta curva puede pensarse también como el gráfico del poder (power) como función del error tipo 1 de una regla de decisión. La curva ROC es entonces la sensitividad o recall como función del fall-out. \n",
    "\n",
    "El análisis de esta curva provee una herramienta para la selección del modelo óptimo sobre subóptimos independientemente de la noción de costo que estemos manejando y la distribución de la variable respuesta."
   ]
  },
  {
   "cell_type": "markdown",
   "metadata": {},
   "source": [
    "Para poder graficar las curvas ROC en simultáneo definiremos una lista con las predicciones de todos los modelos sobre el test set."
   ]
  },
  {
   "cell_type": "code",
   "execution_count": null,
   "metadata": {},
   "outputs": [],
   "source": [
    "predicciones=pd.DataFrame()\n",
    "for i in range(0,len(modelos)-1):\n",
    "    predicciones[modelos_nom[i]]=np.where(modelos[i].predict(X_test)>=0.5,1,0)\n",
    "predicciones[modelos_nom[10]]=np.where(model_LSTM.predict(X_test_LSTM, batch_size=1)>=0.5,1,0)\n",
    "predicciones.index=X[::-1][split:].index"
   ]
  },
  {
   "cell_type": "code",
   "execution_count": null,
   "metadata": {},
   "outputs": [],
   "source": [
    "predicciones.head()"
   ]
  },
  {
   "cell_type": "code",
   "execution_count": null,
   "metadata": {},
   "outputs": [],
   "source": [
    "ns_probs = [0 for _ in range(len(y_test))]\n",
    "# calculate scores\n",
    "ns_auc = roc_auc_score(y_test, ns_probs)\n",
    "\n",
    "lr_auc = []\n",
    "for i in range(0,len(modelos_nom)):\n",
    "    lr_auc.append(np.array(roc_auc_score(y_test, predicciones[modelos_nom[i]])))"
   ]
  },
  {
   "cell_type": "markdown",
   "metadata": {},
   "source": [
    "Ploteamos las curvas ROC. Realizaremos los gráficos en dos partes para una mejor visualización."
   ]
  },
  {
   "cell_type": "code",
   "execution_count": null,
   "metadata": {},
   "outputs": [],
   "source": [
    "# ROC Curves Part 1\n",
    "# summarize scores\n",
    "print('No Skill: ROC AUC=%.3f' % (ns_auc))\n",
    "for i in range(0,len(modelos_nom)-5):\n",
    "    print(modelos_nom[i] + ': ROC AUC=%.3f' % (lr_auc[i]))\n",
    "\n",
    "ns_fpr, ns_tpr, _ = roc_curve(y_test, ns_probs)\n",
    "plt.plot(ns_fpr, ns_tpr, linestyle='--', label='No Skill')\n",
    "\n",
    "for i in range(0,len(modelos_nom)-5):\n",
    "    lr_fpr=roc_curve(y_test,predicciones[modelos_nom[i]])[0]\n",
    "    lr_tpr=roc_curve(y_test,predicciones[modelos_nom[i]])[1]\n",
    "    plt.plot(lr_fpr, lr_tpr, marker='.', label=modelos_nom[i])\n",
    "plt.title('ROC Curves')\n",
    "# axis labels\n",
    "plt.xlabel('False Positive Rate')\n",
    "plt.ylabel('True Positive Rate')\n",
    "# show the legend\n",
    "plt.legend()\n",
    "# show the plot\n",
    "plt.show()"
   ]
  },
  {
   "cell_type": "code",
   "execution_count": null,
   "metadata": {
    "scrolled": false
   },
   "outputs": [],
   "source": [
    "# ROC Curves Part 2\n",
    "print('No Skill: ROC AUC=%.3f' % (ns_auc))\n",
    "for i in range(6,len(modelos_nom)):\n",
    "    print(modelos_nom[i] + ': ROC AUC=%.3f' % (lr_auc[i]))\n",
    "\n",
    "ns_fpr, ns_tpr, _ = roc_curve(y_test, ns_probs)\n",
    "plt.plot(ns_fpr, ns_tpr, linestyle='--', label='No Skill')\n",
    "\n",
    "for i in range(6,len(modelos_nom)):\n",
    "    lr_fpr=roc_curve(y_test,predicciones[modelos_nom[i]])[0]\n",
    "    lr_tpr=roc_curve(y_test,predicciones[modelos_nom[i]])[1]\n",
    "    plt.plot(lr_fpr, lr_tpr, marker='.', label=modelos_nom[i])\n",
    "plt.title('ROC Curves')\n",
    "# axis labels\n",
    "plt.xlabel('False Positive Rate')\n",
    "plt.ylabel('True Positive Rate')\n",
    "# show the legend\n",
    "plt.legend()\n",
    "# show the plot\n",
    "plt.show()"
   ]
  },
  {
   "cell_type": "markdown",
   "metadata": {},
   "source": [
    "### <font color= darkblue> Estrategias: Predicción vs Realidad\n",
    "A continuación plotearemos el movimiento real del BTC y las estrategias resultantes de seguir las predicciones de los modelos."
   ]
  },
  {
   "cell_type": "markdown",
   "metadata": {},
   "source": [
    "En primer lugar, necesitamos manejarnos con los valores reales de los retornos de BTC y no con los escalados. Con lo cual, trabajaremos con un nuevo dataframe con los valores sin escalamiento."
   ]
  },
  {
   "cell_type": "code",
   "execution_count": null,
   "metadata": {},
   "outputs": [],
   "source": [
    "X_aux = Bitcoin[::-1][split:]\n",
    "X_aux = pd.DataFrame(Bitcoin,columns=Bitcoin.columns,index=Bitcoin[::-1][split:].index)"
   ]
  },
  {
   "cell_type": "markdown",
   "metadata": {},
   "source": [
    "Para poder hacer los gráficos simultáneamente, definiremos para cada modelo dos nuevas columnas en el dataset: una con las predicciones y otra con las estrategias. Donde por estrategia entendemos a comprar (''longear'') si el predictor indica $1$ y a vender (''shortear'') si indica $-1$ ($0$)."
   ]
  },
  {
   "cell_type": "code",
   "execution_count": null,
   "metadata": {},
   "outputs": [],
   "source": [
    "for i in range(0,len(modelos_nom)):\n",
    "    X_aux['prediction_'+modelos_nom[i]] = np.where(predicciones[modelos_nom[i]] >= 0.5, 1, -1)\n",
    "    X_aux['strategy'+modelos_nom[i]] = X_aux['prediction_'+modelos_nom[i]] * \\\n",
    "                                X_aux['Returns']"
   ]
  },
  {
   "cell_type": "markdown",
   "metadata": {},
   "source": [
    "A continuación graficamos el movimiento real del BTC vs las estrategias. Dividiremos los casos en dos gráficos para que no haya un amontonamiento de plots."
   ]
  },
  {
   "cell_type": "code",
   "execution_count": null,
   "metadata": {},
   "outputs": [],
   "source": [
    "# Strategies Part 1\n",
    "for i in range(0,len(modelos_nom)-5):\n",
    "    plt.plot(X_aux['strategy'+modelos_nom[i]].cumsum(),marker='.', label=modelos_nom[i])\n",
    "    print('Retorno acumulado usando strategy_'+modelos_nom[i]+': %f.3' % X_aux['strategy'+modelos_nom[i]].sum())\n",
    "plt.plot(X_aux['Returns'].cumsum(),marker='.', label='Actual',color='black')\n",
    "plt.title('Strategy vs Actual')\n",
    "# axis labels\n",
    "plt.xlabel('False Positive Rate')\n",
    "plt.ylabel('True Positive Rate')\n",
    "# show the legend\n",
    "plt.legend()\n",
    "plt.show()"
   ]
  },
  {
   "cell_type": "code",
   "execution_count": null,
   "metadata": {},
   "outputs": [],
   "source": [
    "# Strategies Part 2\n",
    "for i in range(6,len(modelos_nom)):\n",
    "    plt.plot(X_aux['strategy'+modelos_nom[i]].cumsum(),marker='.', label=modelos_nom[i])\n",
    "    print('Retorno acumulado usando strategy_'+modelos_nom[i]+': %f.3' % X_aux['strategy'+modelos_nom[i]].sum())\n",
    "plt.plot(X_aux['Returns'].cumsum(),marker='.', label='Actual',color='black')\n",
    "plt.title('Strategy vs Actual')\n",
    "# axis labels\n",
    "plt.xlabel('False Positive Rate')\n",
    "plt.ylabel('True Positive Rate')\n",
    "# show the legend\n",
    "plt.legend()\n",
    "plt.show()"
   ]
  },
  {
   "cell_type": "markdown",
   "metadata": {},
   "source": [
    "Veamos cuál es la estrategia ganadora."
   ]
  },
  {
   "cell_type": "code",
   "execution_count": null,
   "metadata": {},
   "outputs": [],
   "source": [
    "strategies=[]\n",
    "for i in range(0,len(modelos_nom)):\n",
    "    aux=X_aux['strategy'+modelos_nom[i]].sum()\n",
    "    strategies.append(aux)\n",
    "    print('La estrategia de '+modelos_nom[i]+' tiene un retorno acumulado de: %.3f' % aux)"
   ]
  },
  {
   "cell_type": "markdown",
   "metadata": {},
   "source": [
    "\\clearpage"
   ]
  },
  {
   "cell_type": "markdown",
   "metadata": {},
   "source": [
    "#  <font color= darkblue> Conclusión\n",
    "    \n",
    "Hemos mostrado cómo se crean y entrenan distintos modelos estadísticos para un mismo set de datos y para resolver la misma tarea de clasificación.\n",
    "    \n",
    "Además, hemos comparado los modelos en términos del puntaje de predicción de cada uno y en términos de sus curvas ROC.\n",
    "    \n",
    "Para terminar de encontrar los mejores modelos clasifiquemos a los modelos según su velocidad de entrenamiento, su puntaje de predicción y su nivel de sobreajuste."
   ]
  },
  {
   "cell_type": "markdown",
   "metadata": {},
   "source": [
    "#### <font color= darkblue> Mejor velocidad de convergencia\n",
    "    \n",
    "En términos de velocidad de entrenamiento, tenemos la siguiente clasificación"
   ]
  },
  {
   "cell_type": "code",
   "execution_count": null,
   "metadata": {},
   "outputs": [],
   "source": [
    "modelos_nom.insert(8,'evc')# We have to add 'evc'"
   ]
  },
  {
   "cell_type": "code",
   "execution_count": null,
   "metadata": {},
   "outputs": [],
   "source": [
    "min_coef_index=list(np.argsort(runtimes))\n",
    "for i in min_coef_index:\n",
    "    print('El tiempo de demora del modelo '+modelos_nom[i]+' es: %f' % runtimes[i])"
   ]
  },
  {
   "cell_type": "markdown",
   "metadata": {},
   "source": [
    "El modelo con mejor runtime es"
   ]
  },
  {
   "cell_type": "code",
   "execution_count": null,
   "metadata": {},
   "outputs": [],
   "source": [
    "modelos_nom[runtimes.index(np.min(runtimes))]"
   ]
  },
  {
   "cell_type": "markdown",
   "metadata": {},
   "source": [
    "#### <font color= darkblue> Mejor puntaje de prediccion\n",
    "    \n",
    "En términos de la mejor predicción en el test set tenemos la siguiente clasificación"
   ]
  },
  {
   "cell_type": "code",
   "execution_count": null,
   "metadata": {},
   "outputs": [],
   "source": [
    "modelos_nom.remove('evc') # We have to remove 'evc'"
   ]
  },
  {
   "cell_type": "code",
   "execution_count": null,
   "metadata": {
    "scrolled": true
   },
   "outputs": [],
   "source": [
    "min_coef_index=list(np.argsort(scores)[::-1])\n",
    "for i in min_coef_index:\n",
    "    print('El modelo '+modelos_nom[i]+' tiene un score de: %f' % scores[i])"
   ]
  },
  {
   "cell_type": "markdown",
   "metadata": {},
   "source": [
    "#### <font color= darkblue> Peor sobreajuste\n",
    "    \n",
    "Según la tabla anterior, los algoritmos con peor sobreajuste son claramente: rf, adb, bg y clf. Es decir, todos los ligados a árboles de decisión."
   ]
  },
  {
   "cell_type": "markdown",
   "metadata": {},
   "source": [
    "#### <font color= darkblue> Los mejores modelos\n",
    "\n",
    "Los mejores tres modelos teniendo en cuenta las dos métricas anteriores podemos decir que son: knn, svm y lr."
   ]
  },
  {
   "cell_type": "markdown",
   "metadata": {},
   "source": [
    "\\begin{thebibliography}{}\n",
    "    \n",
    "    \\bibitem{}\n",
    "    C. Alexander et. al. \\textit{Price discovery in Bitcoin: The impact of unregulated markets}. Journal of Financial Stability, Volume 50, October 2020.\n",
    "\n",
    "    \\bibitem{}\n",
    "    C. Alexander. \\textit{Bitcoin Derivatives: the impact of Unregulated Markets on Price Discovery and Introducing the BVIX}. 6th Quant Insights Conference https://www.qiconference.com/\n",
    "\n",
    "    \\bibitem{}\n",
    "    T. Guida. \\textit{Big Data and Machine Learning in Quantitative Investment}. John Wiley \\& Sons, Ltd. ISBN 9781119522195. (2019)\n",
    "\n",
    "    \\bibitem{}\n",
    "    Y. Hilpisch. \\textit{Python for Algorithmic Trading}. O’Reilly Media, Inc. (2020)\n",
    "\n",
    "    \\bibitem{}\n",
    "    Matt H and Daniel R. \\textit{Practical Advice for Building Deep Neural Networks}. https://pcc.cs.byu.edu/2017/10/02/practical-advice-for-building-deep-neural-networks/\n",
    "\n",
    "    \\bibitem{}\n",
    "    S. Nakamoto. \\textit{Bitcoin: A Peer-to Peer Electronic Cash System}. white paper (2008). Available at https://bitcoin.org/bitcoin.pdf\n",
    "\n",
    "    \\bibitem{}\n",
    "    Pang et. al. \\textit{Stock Market Prediction based on Deep Long Short-Term Memory Neural network}. Proceedings of the 3rd International Conference on Complexity, Future Information Systems and Risk (COMPLEXIS 2018), pages 102-108. ISBN: 9789897582974\n",
    "    \n",
    "    \\bibitem{}\n",
    "    K. Singaravelu. \\textit{Introduction to Deep Learning \\& Neural Networks}. CQF Lecture series – Module 5 Data Science and Machine Learning II – October, 2020\n",
    "\n",
    "    \\bibitem{}\n",
    "    K. Singaravelu. \\textit{Application of Neural Networks}. CQF Python Labs – October, 2020\n",
    "\n",
    "    \\bibitem{}\n",
    "    Roc curve:  \"Detector Performance Analysis Using ROC Curves - MATLAB \\& Simulink Example\". www.mathworks.com. Retrieved 11 August 2016.\n",
    "\n",
    "    \\bibitem{}\n",
    "    MinMaxScaler: https://scikitlearn.org/stable/modules/generated/sklearn.preprocessing.MinMaxScaler.html.\n",
    "\n",
    "    \\bibitem{}\n",
    "    Decision Tree Classifier: https://medium.com/@mohtedibf/indepth-parameter-tuning-for-decision-tree-6753118a03c3.\n",
    "\n",
    "    \\bibitem{}\n",
    "    Projection Pursuit Classifier: https://pavelkomarov.com/projection-pursuit/skpp.html\\#module-skpp.\n",
    "\n",
    "    \\bibitem{}\n",
    "    Averaging ensemble: https://machinelearningmastery.com/weighted-average-ensemble-for-deep-learning-neural-networks/.\n",
    "\n",
    "    \\bibitem{}\n",
    "    Time series cross validation: https://robjhyndman.com/hyndsight/tscv/.\n",
    "\n",
    "    \\bibitem{}\n",
    "    For further information on blockchain technology, please consult Ahonen E. (2021) Blockland - 21 Stories of Bitcoin, Blockchain, and Cryptocurrency available at https://www.cryptonumist.com/\n",
    "\t\n",
    "\\end{thebibliography}"
   ]
  }
 ],
 "metadata": {
  "kernelspec": {
   "display_name": "Python 3",
   "language": "python",
   "name": "python3"
  },
  "language_info": {
   "codemirror_mode": {
    "name": "ipython",
    "version": 3
   },
   "file_extension": ".py",
   "mimetype": "text/x-python",
   "name": "python",
   "nbconvert_exporter": "python",
   "pygments_lexer": "ipython3",
   "version": "3.8.10"
  }
 },
 "nbformat": 4,
 "nbformat_minor": 4
}
